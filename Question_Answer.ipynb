{
 "cells": [
  {
   "cell_type": "markdown",
   "metadata": {},
   "source": [
    "<div style=\"text-align: center; background-color: #bd4f0a; font-family: 'Trebuchet MS', Arial, sans-serif; color: white; padding: 20px; font-size: 36px; font-weight: bold; border-radius: 0 0 0 0; box-shadow: 0px 6px 8px rgba(0, 0, 0, 0.2);\">\n",
    "  ĐẶT VẤN ĐỀ VÀ GIẢI QUYẾT\n",
    "</div>"
   ]
  },
  {
   "cell_type": "markdown",
   "metadata": {},
   "source": [
    "### Thông tin nhóm:\n",
    "\n",
    "<center>\n",
    "\n",
    "| HỌ TÊN                | MSSV      |\n",
    "|:------------------    |:--------: |\n",
    "| Nguyễn Đức Mạnh    | 20120019  |\n",
    "| Nguyễn Văn Hiến    | 22120101  |\n",
    "| Đặng Minh Hoàng       | 22120110  |\n",
    "| Nguyễn Ngọc Hoàng     | 22120112  |\n",
    "| Quách Tề Hoằng     | 22120114  |\n",
    "\n",
    "</center>\n",
    "\n",
    "\n",
    "### Giảng viên hướng dẫn: \n",
    "##### **Thầy Lê Nhựt Nam**\n",
    "##### **Thầy Lê Ngọc Thành**\n",
    "---"
   ]
  },
  {
   "cell_type": "markdown",
   "metadata": {},
   "source": [
    "## Nội dung <a id=\"content\"></a>\n",
    "1. [Chuẩn bị dữ liệu](#reparation) <br>\n",
    "    1.1 [Khai báo thư viện](#library) <br>\n",
    "    1.2 [Tải dữ liệu](#load) <br>\n",
    "\n",
    "2. [Phân khúc khách hàng](#segment)  \n",
    "    2.1 [Câu hỏi 1](#2-question-1) <br>\n",
    "    2.2 [Câu hỏi 2](#2-question-2) <br>\n",
    "\n",
    "3. [Xu hướng thị trường](#trend)  \n",
    "    3.1 [Câu hỏi 1](#3-question-1) <br>\n",
    "    3.2 [Câu hỏi 2](#3-question-2) <br>\n",
    "    \n",
    "4. [Tiện nghi - Tiện ích](#convenience) <br>\n",
    "    4.1 [Câu hỏi 1](#4-question-1) <br>\n",
    "    4.2 [Câu hỏi 2](#4-question-2)<br>\n",
    "    4.3 [Câu hỏi 3](#4-question-3) <br>"
   ]
  },
  {
   "cell_type": "markdown",
   "metadata": {},
   "source": [
    "## 1. Chuẩn bị dữ liệu <a id=\"reparation\"></a>\n",
    "###### [(Về trang đầu)](#content)"
   ]
  },
  {
   "cell_type": "markdown",
   "metadata": {},
   "source": [
    "### 1.1. Khai báo thư viện <a id=\"library\"></a>"
   ]
  },
  {
   "cell_type": "code",
   "execution_count": null,
   "metadata": {
    "vscode": {
     "languageId": "plaintext"
    }
   },
   "outputs": [],
   "source": []
  },
  {
   "cell_type": "markdown",
   "metadata": {},
   "source": [
    "### 1.2. Tải dữ liệu <a id=\"load\"></a>"
   ]
  },
  {
   "cell_type": "code",
   "execution_count": null,
   "metadata": {
    "vscode": {
     "languageId": "plaintext"
    }
   },
   "outputs": [],
   "source": []
  },
  {
   "cell_type": "markdown",
   "metadata": {},
   "source": [
    "#### Bảng ánh xạ"
   ]
  },
  {
   "cell_type": "code",
   "execution_count": null,
   "metadata": {
    "vscode": {
     "languageId": "plaintext"
    }
   },
   "outputs": [],
   "source": []
  },
  {
   "cell_type": "markdown",
   "metadata": {},
   "source": [
    "## 2. Phân khúc khách hàng <a id=\"segment\"></a>"
   ]
  },
  {
   "cell_type": "markdown",
   "metadata": {},
   "source": [
    "### 2.1. Câu hỏi 1  <a id=\"2-question-1\"></a>\n",
    "###### [(Về trang đầu)](#content)"
   ]
  },
  {
   "cell_type": "code",
   "execution_count": null,
   "metadata": {
    "vscode": {
     "languageId": "plaintext"
    }
   },
   "outputs": [],
   "source": []
  },
  {
   "cell_type": "markdown",
   "metadata": {},
   "source": [
    "### 2.2 Câu hỏi 2  <a id=\"2-question-2\"></a>\n",
    "###### [(Về trang đầu)](#content)"
   ]
  },
  {
   "cell_type": "code",
   "execution_count": null,
   "metadata": {
    "vscode": {
     "languageId": "plaintext"
    }
   },
   "outputs": [],
   "source": []
  },
  {
   "cell_type": "markdown",
   "metadata": {},
   "source": [
    "## 3. Xu hướng thị trường <a id=\"trend\"></a>"
   ]
  },
  {
   "cell_type": "markdown",
   "metadata": {},
   "source": [
    "### 3.1. Câu hỏi 1 <a id=\"3-question-1\"></a>\n",
    "###### [(Về trang đầu)](#content)"
   ]
  },
  {
   "cell_type": "code",
   "execution_count": null,
   "metadata": {
    "vscode": {
     "languageId": "plaintext"
    }
   },
   "outputs": [],
   "source": []
  },
  {
   "cell_type": "markdown",
   "metadata": {},
   "source": [
    "### 3.2. Câu hỏi 2   <a id=\"3-question-2\"></a>\n",
    "###### [(Về trang đầu)](#content)"
   ]
  },
  {
   "cell_type": "code",
   "execution_count": null,
   "metadata": {
    "vscode": {
     "languageId": "plaintext"
    }
   },
   "outputs": [],
   "source": []
  },
  {
   "cell_type": "markdown",
   "metadata": {},
   "source": [
    "## 4. Tiện nghi - Tiện ích <a id=\"convenience\"></a>"
   ]
  },
  {
   "cell_type": "markdown",
   "metadata": {},
   "source": [
    "### 4.1. Câu hỏi 1  <a id=\"4-question-1\"></a>\n",
    "###### [(Về trang đầu)](#content)"
   ]
  },
  {
   "cell_type": "code",
   "execution_count": null,
   "metadata": {
    "vscode": {
     "languageId": "plaintext"
    }
   },
   "outputs": [],
   "source": []
  },
  {
   "cell_type": "markdown",
   "metadata": {},
   "source": [
    "### 4.2. Câu hỏi 2  <a id=\"4-question-2\"></a>\n",
    "###### [(Về trang đầu)](#content)"
   ]
  },
  {
   "cell_type": "code",
   "execution_count": null,
   "metadata": {
    "vscode": {
     "languageId": "plaintext"
    }
   },
   "outputs": [],
   "source": []
  },
  {
   "cell_type": "markdown",
   "metadata": {},
   "source": [
    "### 4.3. Câu hỏi 3   <a id=\"4-question-3\"></a>\n",
    "###### [(Về trang đầu)](#content)"
   ]
  },
  {
   "cell_type": "code",
   "execution_count": null,
   "metadata": {
    "vscode": {
     "languageId": "plaintext"
    }
   },
   "outputs": [],
   "source": []
  }
 ],
 "metadata": {
  "language_info": {
   "name": "python"
  }
 },
 "nbformat": 4,
 "nbformat_minor": 2
}
