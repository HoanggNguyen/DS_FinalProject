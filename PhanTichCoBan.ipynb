{
 "cells": [
  {
   "cell_type": "markdown",
   "id": "a4cca64f-b7a4-4d48-9b6e-b5e10ec82044",
   "metadata": {},
   "source": [
    "# 1. Khai báo thư viện"
   ]
  },
  {
   "cell_type": "code",
   "execution_count": 1,
   "id": "09d8d4e4-08e9-418d-8e92-a03748ac7c84",
   "metadata": {},
   "outputs": [],
   "source": [
    "import numpy as np\n",
    "import pandas as pd\n",
    "import seaborn as sns\n",
    "from matplotlib import pyplot as plt"
   ]
  },
  {
   "cell_type": "markdown",
   "id": "1959fcb8-ac76-49cd-adcd-4d726b457eb3",
   "metadata": {},
   "source": [
    "# 2. Thu thập dữ liệu"
   ]
  },
  {
   "cell_type": "code",
   "execution_count": 2,
   "id": "a94c4335-cfdd-48ec-894e-b5c2b4e70405",
   "metadata": {},
   "outputs": [
    {
     "data": {
      "text/html": [
       "<div>\n",
       "<style scoped>\n",
       "    .dataframe tbody tr th:only-of-type {\n",
       "        vertical-align: middle;\n",
       "    }\n",
       "\n",
       "    .dataframe tbody tr th {\n",
       "        vertical-align: top;\n",
       "    }\n",
       "\n",
       "    .dataframe thead th {\n",
       "        text-align: right;\n",
       "    }\n",
       "</style>\n",
       "<table border=\"1\" class=\"dataframe\">\n",
       "  <thead>\n",
       "    <tr style=\"text-align: right;\">\n",
       "      <th></th>\n",
       "      <th>ID</th>\n",
       "      <th>Địa chỉ</th>\n",
       "      <th>Diện tích</th>\n",
       "      <th>Số phòng ngủ</th>\n",
       "      <th>Số toilet</th>\n",
       "      <th>Nội thất</th>\n",
       "      <th>Mức giá</th>\n",
       "      <th>Ngày đăng tin</th>\n",
       "    </tr>\n",
       "  </thead>\n",
       "  <tbody>\n",
       "    <tr>\n",
       "      <th>0</th>\n",
       "      <td>41278673.0</td>\n",
       "      <td>14</td>\n",
       "      <td>20.0</td>\n",
       "      <td>1.0</td>\n",
       "      <td>1.0</td>\n",
       "      <td>2</td>\n",
       "      <td>4.0</td>\n",
       "      <td>2024-10-22</td>\n",
       "    </tr>\n",
       "    <tr>\n",
       "      <th>1</th>\n",
       "      <td>41290558.0</td>\n",
       "      <td>14</td>\n",
       "      <td>60.0</td>\n",
       "      <td>2.0</td>\n",
       "      <td>2.0</td>\n",
       "      <td>0</td>\n",
       "      <td>10.0</td>\n",
       "      <td>2024-10-23</td>\n",
       "    </tr>\n",
       "    <tr>\n",
       "      <th>2</th>\n",
       "      <td>41198378.0</td>\n",
       "      <td>3</td>\n",
       "      <td>45.0</td>\n",
       "      <td>1.0</td>\n",
       "      <td>1.0</td>\n",
       "      <td>0</td>\n",
       "      <td>7.3</td>\n",
       "      <td>2024-10-23</td>\n",
       "    </tr>\n",
       "    <tr>\n",
       "      <th>3</th>\n",
       "      <td>41098096.0</td>\n",
       "      <td>17</td>\n",
       "      <td>28.0</td>\n",
       "      <td>1.0</td>\n",
       "      <td>1.0</td>\n",
       "      <td>0</td>\n",
       "      <td>2.8</td>\n",
       "      <td>2024-10-23</td>\n",
       "    </tr>\n",
       "    <tr>\n",
       "      <th>4</th>\n",
       "      <td>41298012.0</td>\n",
       "      <td>1</td>\n",
       "      <td>30.0</td>\n",
       "      <td>1.0</td>\n",
       "      <td>1.0</td>\n",
       "      <td>2</td>\n",
       "      <td>4.8</td>\n",
       "      <td>2024-10-23</td>\n",
       "    </tr>\n",
       "  </tbody>\n",
       "</table>\n",
       "</div>"
      ],
      "text/plain": [
       "           ID  Địa chỉ  Diện tích  Số phòng ngủ  Số toilet  Nội thất  Mức giá  \\\n",
       "0  41278673.0       14       20.0           1.0        1.0         2      4.0   \n",
       "1  41290558.0       14       60.0           2.0        2.0         0     10.0   \n",
       "2  41198378.0        3       45.0           1.0        1.0         0      7.3   \n",
       "3  41098096.0       17       28.0           1.0        1.0         0      2.8   \n",
       "4  41298012.0        1       30.0           1.0        1.0         2      4.8   \n",
       "\n",
       "  Ngày đăng tin  \n",
       "0    2024-10-22  \n",
       "1    2024-10-23  \n",
       "2    2024-10-23  \n",
       "3    2024-10-23  \n",
       "4    2024-10-23  "
      ]
     },
     "execution_count": 2,
     "metadata": {},
     "output_type": "execute_result"
    }
   ],
   "source": [
    "df = pd.read_csv('./data/DSPhongTro_DaXuLy.csv',sep='\\t')\n",
    "df.head()"
   ]
  },
  {
   "cell_type": "code",
   "execution_count": 3,
   "id": "8b454b05-6e01-4c94-8710-b57210af2a1a",
   "metadata": {},
   "outputs": [],
   "source": [
    "# thêm vào tiền xử lý\n",
    "df = df[df['Mức giá']<100.0]"
   ]
  },
  {
   "cell_type": "markdown",
   "id": "d4c1eaae-7d3d-4562-ac20-8076b6044642",
   "metadata": {},
   "source": [
    "# 3. Khám phá dữ liệu"
   ]
  },
  {
   "cell_type": "markdown",
   "id": "17de5ecb-70aa-409d-bba6-f3c73b5574c5",
   "metadata": {},
   "source": [
    "## 3.1 Cấu trúc tập dữ liệu"
   ]
  },
  {
   "cell_type": "code",
   "execution_count": 4,
   "id": "13bf2291-9f49-49fe-a41f-d07ab2a8c901",
   "metadata": {},
   "outputs": [
    {
     "name": "stdout",
     "output_type": "stream",
     "text": [
      "Số dòng:  4237\n",
      "Số cột:  8\n"
     ]
    }
   ],
   "source": [
    "n_rows, n_cols = df.shape\n",
    "print(\"Số dòng: \", n_rows)\n",
    "print(\"Số cột: \", n_cols)"
   ]
  },
  {
   "cell_type": "markdown",
   "id": "ef7a9f4c-bec9-46b0-a8e6-b04915d9c08f",
   "metadata": {},
   "source": [
    "## 3.2 Khám phá các dòng dữ liệu"
   ]
  },
  {
   "cell_type": "markdown",
   "id": "72352be4-003f-4d1b-910e-412d86b45317",
   "metadata": {},
   "source": [
    "### 3.2.1 Lấy ngẫu nhiên 1 dòng dữ liệu"
   ]
  },
  {
   "cell_type": "code",
   "execution_count": 5,
   "id": "c3e1b024-335b-4d69-874e-e983435a50b5",
   "metadata": {},
   "outputs": [
    {
     "data": {
      "text/html": [
       "<div>\n",
       "<style scoped>\n",
       "    .dataframe tbody tr th:only-of-type {\n",
       "        vertical-align: middle;\n",
       "    }\n",
       "\n",
       "    .dataframe tbody tr th {\n",
       "        vertical-align: top;\n",
       "    }\n",
       "\n",
       "    .dataframe thead th {\n",
       "        text-align: right;\n",
       "    }\n",
       "</style>\n",
       "<table border=\"1\" class=\"dataframe\">\n",
       "  <thead>\n",
       "    <tr style=\"text-align: right;\">\n",
       "      <th></th>\n",
       "      <th>ID</th>\n",
       "      <th>Địa chỉ</th>\n",
       "      <th>Diện tích</th>\n",
       "      <th>Số phòng ngủ</th>\n",
       "      <th>Số toilet</th>\n",
       "      <th>Nội thất</th>\n",
       "      <th>Mức giá</th>\n",
       "      <th>Ngày đăng tin</th>\n",
       "    </tr>\n",
       "  </thead>\n",
       "  <tbody>\n",
       "    <tr>\n",
       "      <th>54</th>\n",
       "      <td>41250578.0</td>\n",
       "      <td>1</td>\n",
       "      <td>30.0</td>\n",
       "      <td>1.0</td>\n",
       "      <td>1.0</td>\n",
       "      <td>2</td>\n",
       "      <td>5.6</td>\n",
       "      <td>2024-10-18</td>\n",
       "    </tr>\n",
       "  </tbody>\n",
       "</table>\n",
       "</div>"
      ],
      "text/plain": [
       "            ID  Địa chỉ  Diện tích  Số phòng ngủ  Số toilet  Nội thất  \\\n",
       "54  41250578.0        1       30.0           1.0        1.0         2   \n",
       "\n",
       "    Mức giá Ngày đăng tin  \n",
       "54      5.6    2024-10-18  "
      ]
     },
     "execution_count": 5,
     "metadata": {},
     "output_type": "execute_result"
    }
   ],
   "source": [
    "df.sample()"
   ]
  },
  {
   "cell_type": "markdown",
   "id": "a57bc4a2-3143-4562-a61e-54febf36d4c9",
   "metadata": {},
   "source": [
    "### 3.2.2 Ý nghĩa của từng dòng dữ liệu"
   ]
  },
  {
   "cell_type": "markdown",
   "id": "31f9252d-f115-4bde-96e1-0932e7f400c7",
   "metadata": {},
   "source": [
    "Mỗi dòng trong tập dữ liệu cung cấp thông tin chi tiết của từng phòng trọ cho thuê được đăng bài vào tháng 10 và 11/2024 trên trang web. Mỗi dòng có ý nghĩa rất quan trọng trong việc thực hiện phân tích giá phòng trọ và dự đoán xu hướng giá cả trong tương lai của nhóm."
   ]
  },
  {
   "cell_type": "markdown",
   "id": "e2346525-e152-4b55-9414-bfdba44e9875",
   "metadata": {},
   "source": [
    "### 3.2.3 Có dòng nào bị trùng lắp dữ liệu không?"
   ]
  },
  {
   "cell_type": "code",
   "execution_count": 6,
   "id": "56feec22-31b1-4153-9830-bf077e2cb8b8",
   "metadata": {},
   "outputs": [],
   "source": [
    "have_duplicated_rows = df.duplicated().any()"
   ]
  },
  {
   "cell_type": "code",
   "execution_count": 7,
   "id": "a050e18c-ed45-40f9-a302-1dd80ea87f4a",
   "metadata": {},
   "outputs": [
    {
     "name": "stdout",
     "output_type": "stream",
     "text": [
      "Không có dòng dữ liệu nào bị trùng lắp cả\n"
     ]
    }
   ],
   "source": [
    "if have_duplicated_rows:\n",
    "    print(\"Dữ liệu tồn tại dòng bị trùng lắp cần tiền xử lý lại\")\n",
    "else:\n",
    "    print(\"Không có dòng dữ liệu nào bị trùng lắp cả\")"
   ]
  },
  {
   "cell_type": "markdown",
   "id": "9de58c1b-6e43-4584-a7ff-0253f95d93cc",
   "metadata": {},
   "source": [
    "## 3.3 Khám phá các cột dữ liệu"
   ]
  },
  {
   "cell_type": "markdown",
   "id": "d6de4c00-a840-4ad6-9c89-dbe029da060c",
   "metadata": {},
   "source": [
    "### 3.3.1 Các cột dữ liệu"
   ]
  },
  {
   "cell_type": "code",
   "execution_count": 8,
   "id": "5cd9339f-3049-465b-ad99-80df43bfee8e",
   "metadata": {},
   "outputs": [
    {
     "data": {
      "text/plain": [
       "Index(['ID', 'Địa chỉ', 'Diện tích', 'Số phòng ngủ', 'Số toilet', 'Nội thất',\n",
       "       'Mức giá', 'Ngày đăng tin'],\n",
       "      dtype='object')"
      ]
     },
     "execution_count": 8,
     "metadata": {},
     "output_type": "execute_result"
    }
   ],
   "source": [
    "df.columns"
   ]
  },
  {
   "cell_type": "markdown",
   "id": "d6a96eb5-1dcd-4906-81d2-f5d6b743b5aa",
   "metadata": {},
   "source": [
    "### 3.3.2 Ý nghĩa của mỗi cột dữ liệu"
   ]
  },
  {
   "cell_type": "markdown",
   "id": "566d6785-e8c0-4591-a578-e8e30204d62d",
   "metadata": {},
   "source": [
    "#### Ý nghĩa"
   ]
  },
  {
   "cell_type": "markdown",
   "id": "493c675b-58ee-4ea2-b44a-6a40156682aa",
   "metadata": {},
   "source": [
    "- `ID`: Mã định danh của phòng trọ.\n",
    "- `Địa chỉ`: Vị trí quận nơi căn phòng được cho thuê (mã hóa số).\n",
    "- `Diện tích`: Kích thước phòng (m²).\n",
    "- `Số phòng ngủ`: Phòng trọ có bao nhiêu phòng ngủ.\n",
    "- `Số toilet`: Phòng trọ có bao nhiêu phòng vệ sinh.\n",
    "- `Nội thất`: Tình trạng nội thất trong phòng (không có, cơ bản, đầy đủ, cao cấp).\n",
    "- `Mức giá`: Giá thuê phòng trọ theo triệu đồng/tháng.\n",
    "- `Ngày đăng tin`: Ngày bài đăng xuất hiện, cung cấp thông tin về thời gian đăng tải."
   ]
  },
  {
   "cell_type": "markdown",
   "id": "ee192758-4118-4972-9eb0-0b175644b2ad",
   "metadata": {},
   "source": [
    "#### Bảng phân loại"
   ]
  },
  {
   "cell_type": "markdown",
   "id": "96450351-2eae-43dc-b989-7eaacae7271f",
   "metadata": {},
   "source": [
    "| **Thuộc tính**        | **Giá trị số/Giá trị phân loại** | **Liên tục/Rời rạc** | **Thứ tự/Không có thứ tự** |\n",
    "|-----------------------|----------------------------------|----------------------|----------------------------|\n",
    "| **ID**               | Giá trị phân loại               | Rời rạc             | Không có thứ tự           |\n",
    "| **Địa chỉ**          | Giá trị phân loại               | Rời rạc             | Không có thứ tự           |\n",
    "| **Diện tích**        | Giá trị số                      | Liên tục            | Không có thứ tự           |\n",
    "| **Số phòng ngủ**     | Giá trị số                      | Rời rạc             | Có thứ tự                 |\n",
    "| **Số toilet**        | Giá trị số                      | Rời rạc             | Có thứ tự                 |\n",
    "| **Nội thất**         | Giá trị phân loại               | Rời rạc             | Có thứ tự                 |\n",
    "| **Mức giá**          | Giá trị số                      | Liên tục            | Không có thứ tự           |\n",
    "| **Ngày đăng tin**    | Giá trị phân loại               | Rời rạc             | Không có thứ tự           |\n"
   ]
  },
  {
   "cell_type": "markdown",
   "id": "8b0dd7b7-3bb9-40ed-88cd-93be301cdc36",
   "metadata": {},
   "source": [
    "### 3.3.3 Kiểu dữ liệu hiện tại của từng cột"
   ]
  },
  {
   "cell_type": "code",
   "execution_count": 9,
   "id": "83bcc581-2a16-4394-b9f2-a99fa5becc6d",
   "metadata": {},
   "outputs": [
    {
     "data": {
      "text/plain": [
       "ID               float64\n",
       "Địa chỉ            int64\n",
       "Diện tích        float64\n",
       "Số phòng ngủ     float64\n",
       "Số toilet        float64\n",
       "Nội thất           int64\n",
       "Mức giá          float64\n",
       "Ngày đăng tin     object\n",
       "dtype: object"
      ]
     },
     "execution_count": 9,
     "metadata": {},
     "output_type": "execute_result"
    }
   ],
   "source": [
    "df.dtypes"
   ]
  },
  {
   "cell_type": "markdown",
   "id": "761b3c84-9cbd-473e-82a7-5721bfee85bd",
   "metadata": {},
   "source": [
    "### 3.3.4 Ý nghĩa của một số cột dữ liệu đã mã hóa"
   ]
  },
  {
   "cell_type": "markdown",
   "id": "7d12b7e1-f1f4-418f-a222-5d58caf60b3a",
   "metadata": {},
   "source": [
    "#### Địa chỉ"
   ]
  },
  {
   "cell_type": "code",
   "execution_count": 10,
   "id": "b6ce9044-ab79-4a61-946c-a8064e35550e",
   "metadata": {},
   "outputs": [
    {
     "data": {
      "text/html": [
       "<div>\n",
       "<style scoped>\n",
       "    .dataframe tbody tr th:only-of-type {\n",
       "        vertical-align: middle;\n",
       "    }\n",
       "\n",
       "    .dataframe tbody tr th {\n",
       "        vertical-align: top;\n",
       "    }\n",
       "\n",
       "    .dataframe thead th {\n",
       "        text-align: right;\n",
       "    }\n",
       "</style>\n",
       "<table border=\"1\" class=\"dataframe\">\n",
       "  <thead>\n",
       "    <tr style=\"text-align: right;\">\n",
       "      <th></th>\n",
       "      <th>Địa chỉ</th>\n",
       "      <th>Mã</th>\n",
       "    </tr>\n",
       "  </thead>\n",
       "  <tbody>\n",
       "    <tr>\n",
       "      <th>0</th>\n",
       "      <td>Quận 1</td>\n",
       "      <td>1</td>\n",
       "    </tr>\n",
       "    <tr>\n",
       "      <th>1</th>\n",
       "      <td>Quận 3</td>\n",
       "      <td>3</td>\n",
       "    </tr>\n",
       "    <tr>\n",
       "      <th>2</th>\n",
       "      <td>Quận 4</td>\n",
       "      <td>4</td>\n",
       "    </tr>\n",
       "    <tr>\n",
       "      <th>3</th>\n",
       "      <td>Quận 5</td>\n",
       "      <td>5</td>\n",
       "    </tr>\n",
       "    <tr>\n",
       "      <th>4</th>\n",
       "      <td>Quận 6</td>\n",
       "      <td>6</td>\n",
       "    </tr>\n",
       "    <tr>\n",
       "      <th>5</th>\n",
       "      <td>Quận 7</td>\n",
       "      <td>7</td>\n",
       "    </tr>\n",
       "    <tr>\n",
       "      <th>6</th>\n",
       "      <td>Quận 8</td>\n",
       "      <td>8</td>\n",
       "    </tr>\n",
       "    <tr>\n",
       "      <th>7</th>\n",
       "      <td>Quận 10</td>\n",
       "      <td>10</td>\n",
       "    </tr>\n",
       "    <tr>\n",
       "      <th>8</th>\n",
       "      <td>Quận 11</td>\n",
       "      <td>11</td>\n",
       "    </tr>\n",
       "    <tr>\n",
       "      <th>9</th>\n",
       "      <td>Quận 12</td>\n",
       "      <td>12</td>\n",
       "    </tr>\n",
       "    <tr>\n",
       "      <th>10</th>\n",
       "      <td>Bình Thạnh</td>\n",
       "      <td>2</td>\n",
       "    </tr>\n",
       "    <tr>\n",
       "      <th>11</th>\n",
       "      <td>Gò Vấp</td>\n",
       "      <td>9</td>\n",
       "    </tr>\n",
       "    <tr>\n",
       "      <th>12</th>\n",
       "      <td>Phú Nhuận</td>\n",
       "      <td>13</td>\n",
       "    </tr>\n",
       "    <tr>\n",
       "      <th>13</th>\n",
       "      <td>Tân Bình</td>\n",
       "      <td>14</td>\n",
       "    </tr>\n",
       "    <tr>\n",
       "      <th>14</th>\n",
       "      <td>Tân Phú</td>\n",
       "      <td>15</td>\n",
       "    </tr>\n",
       "    <tr>\n",
       "      <th>15</th>\n",
       "      <td>Bình Tân</td>\n",
       "      <td>16</td>\n",
       "    </tr>\n",
       "    <tr>\n",
       "      <th>16</th>\n",
       "      <td>Thủ Đức</td>\n",
       "      <td>17</td>\n",
       "    </tr>\n",
       "    <tr>\n",
       "      <th>17</th>\n",
       "      <td>Bình Chánh</td>\n",
       "      <td>18</td>\n",
       "    </tr>\n",
       "    <tr>\n",
       "      <th>18</th>\n",
       "      <td>Cần Giờ</td>\n",
       "      <td>19</td>\n",
       "    </tr>\n",
       "    <tr>\n",
       "      <th>19</th>\n",
       "      <td>Củ Chi</td>\n",
       "      <td>20</td>\n",
       "    </tr>\n",
       "    <tr>\n",
       "      <th>20</th>\n",
       "      <td>Hóc Môn</td>\n",
       "      <td>21</td>\n",
       "    </tr>\n",
       "    <tr>\n",
       "      <th>21</th>\n",
       "      <td>Nhà Bè</td>\n",
       "      <td>22</td>\n",
       "    </tr>\n",
       "  </tbody>\n",
       "</table>\n",
       "</div>"
      ],
      "text/plain": [
       "       Địa chỉ  Mã\n",
       "0       Quận 1   1\n",
       "1       Quận 3   3\n",
       "2       Quận 4   4\n",
       "3       Quận 5   5\n",
       "4       Quận 6   6\n",
       "5       Quận 7   7\n",
       "6       Quận 8   8\n",
       "7      Quận 10  10\n",
       "8      Quận 11  11\n",
       "9      Quận 12  12\n",
       "10  Bình Thạnh   2\n",
       "11      Gò Vấp   9\n",
       "12   Phú Nhuận  13\n",
       "13    Tân Bình  14\n",
       "14     Tân Phú  15\n",
       "15    Bình Tân  16\n",
       "16     Thủ Đức  17\n",
       "17  Bình Chánh  18\n",
       "18     Cần Giờ  19\n",
       "19      Củ Chi  20\n",
       "20     Hóc Môn  21\n",
       "21      Nhà Bè  22"
      ]
     },
     "execution_count": 10,
     "metadata": {},
     "output_type": "execute_result"
    }
   ],
   "source": [
    "info_area = pd.read_csv('./data/address.txt',header=None,sep=':')\n",
    "info_area.columns= ['Địa chỉ','Mã']\n",
    "info_area"
   ]
  },
  {
   "cell_type": "markdown",
   "id": "b7b79e51-ffb6-489c-95e2-5553e9c4d71c",
   "metadata": {},
   "source": [
    "#### Nội thất"
   ]
  },
  {
   "cell_type": "code",
   "execution_count": 11,
   "id": "8b559ea4-e15f-4e7e-86a0-e9183999d657",
   "metadata": {},
   "outputs": [
    {
     "data": {
      "text/html": [
       "<div>\n",
       "<style scoped>\n",
       "    .dataframe tbody tr th:only-of-type {\n",
       "        vertical-align: middle;\n",
       "    }\n",
       "\n",
       "    .dataframe tbody tr th {\n",
       "        vertical-align: top;\n",
       "    }\n",
       "\n",
       "    .dataframe thead th {\n",
       "        text-align: right;\n",
       "    }\n",
       "</style>\n",
       "<table border=\"1\" class=\"dataframe\">\n",
       "  <thead>\n",
       "    <tr style=\"text-align: right;\">\n",
       "      <th></th>\n",
       "      <th>Nội thất</th>\n",
       "      <th>Mã</th>\n",
       "    </tr>\n",
       "  </thead>\n",
       "  <tbody>\n",
       "    <tr>\n",
       "      <th>0</th>\n",
       "      <td>Không</td>\n",
       "      <td>0</td>\n",
       "    </tr>\n",
       "    <tr>\n",
       "      <th>1</th>\n",
       "      <td>Cơ bản</td>\n",
       "      <td>1</td>\n",
       "    </tr>\n",
       "    <tr>\n",
       "      <th>2</th>\n",
       "      <td>Đầy đủ</td>\n",
       "      <td>2</td>\n",
       "    </tr>\n",
       "    <tr>\n",
       "      <th>3</th>\n",
       "      <td>Cao cấp</td>\n",
       "      <td>3</td>\n",
       "    </tr>\n",
       "  </tbody>\n",
       "</table>\n",
       "</div>"
      ],
      "text/plain": [
       "  Nội thất  Mã\n",
       "0    Không   0\n",
       "1   Cơ bản   1\n",
       "2   Đầy đủ   2\n",
       "3  Cao cấp   3"
      ]
     },
     "execution_count": 11,
     "metadata": {},
     "output_type": "execute_result"
    }
   ],
   "source": [
    "info_furniture = pd.read_csv('./data/furniture.txt',header=None,sep=':')\n",
    "info_furniture.columns= ['Nội thất','Mã']\n",
    "info_furniture"
   ]
  },
  {
   "cell_type": "markdown",
   "id": "346f6f01-1746-4fec-aaa6-107eb32e9edd",
   "metadata": {},
   "source": [
    "### 3.3.5 Phân bố của các cột dữ liệu số"
   ]
  },
  {
   "cell_type": "markdown",
   "id": "cd8dc6e0-cbc8-4e51-8b91-3593ea253164",
   "metadata": {},
   "source": [
    "Với mỗi cột dữ liệu số ta sẽ tính:\n",
    "\n",
    "- `mising_rato`: tỷ lệ phần trăm (từ 0 đến 100) của giá trị bị thiếu\n",
    "- `min`: giá trị nhỏ nhất\n",
    "- `lower_quartile`: giá trị tứ phân vị thứ nhất (25%)\n",
    "- `median`: giá trị tứ phân vị thứ hai (50%)\n",
    "- `upper_quartile`: giá trị tứ phân vị thứ ba (75%)\n",
    "- `min`: giá trị nhỏ nhất"
   ]
  },
  {
   "cell_type": "code",
   "execution_count": 12,
   "id": "7cca4d86-cbf0-4e60-a409-f2e3d593870e",
   "metadata": {},
   "outputs": [
    {
     "data": {
      "text/html": [
       "<div>\n",
       "<style scoped>\n",
       "    .dataframe tbody tr th:only-of-type {\n",
       "        vertical-align: middle;\n",
       "    }\n",
       "\n",
       "    .dataframe tbody tr th {\n",
       "        vertical-align: top;\n",
       "    }\n",
       "\n",
       "    .dataframe thead th {\n",
       "        text-align: right;\n",
       "    }\n",
       "</style>\n",
       "<table border=\"1\" class=\"dataframe\">\n",
       "  <thead>\n",
       "    <tr style=\"text-align: right;\">\n",
       "      <th></th>\n",
       "      <th>Diện tích</th>\n",
       "      <th>Số phòng ngủ</th>\n",
       "      <th>Số toilet</th>\n",
       "      <th>Mức giá</th>\n",
       "    </tr>\n",
       "  </thead>\n",
       "  <tbody>\n",
       "    <tr>\n",
       "      <th>missing_ratio</th>\n",
       "      <td>0.0</td>\n",
       "      <td>0.0</td>\n",
       "      <td>0.0</td>\n",
       "      <td>0.0</td>\n",
       "    </tr>\n",
       "    <tr>\n",
       "      <th>min</th>\n",
       "      <td>2.0</td>\n",
       "      <td>1.0</td>\n",
       "      <td>1.0</td>\n",
       "      <td>1.0</td>\n",
       "    </tr>\n",
       "    <tr>\n",
       "      <th>lower_quartile</th>\n",
       "      <td>25.0</td>\n",
       "      <td>1.0</td>\n",
       "      <td>1.0</td>\n",
       "      <td>3.9</td>\n",
       "    </tr>\n",
       "    <tr>\n",
       "      <th>median</th>\n",
       "      <td>30.0</td>\n",
       "      <td>1.0</td>\n",
       "      <td>1.0</td>\n",
       "      <td>5.0</td>\n",
       "    </tr>\n",
       "    <tr>\n",
       "      <th>upper_quartile</th>\n",
       "      <td>35.0</td>\n",
       "      <td>1.0</td>\n",
       "      <td>1.0</td>\n",
       "      <td>6.2</td>\n",
       "    </tr>\n",
       "    <tr>\n",
       "      <th>max</th>\n",
       "      <td>100.0</td>\n",
       "      <td>8.0</td>\n",
       "      <td>6.0</td>\n",
       "      <td>28.0</td>\n",
       "    </tr>\n",
       "  </tbody>\n",
       "</table>\n",
       "</div>"
      ],
      "text/plain": [
       "                Diện tích  Số phòng ngủ  Số toilet  Mức giá\n",
       "missing_ratio         0.0           0.0        0.0      0.0\n",
       "min                   2.0           1.0        1.0      1.0\n",
       "lower_quartile       25.0           1.0        1.0      3.9\n",
       "median               30.0           1.0        1.0      5.0\n",
       "upper_quartile       35.0           1.0        1.0      6.2\n",
       "max                 100.0           8.0        6.0     28.0"
      ]
     },
     "execution_count": 12,
     "metadata": {},
     "output_type": "execute_result"
    }
   ],
   "source": [
    "def missing_ratio(col):\n",
    "    return (col.isna().mean()*100).round(1)\n",
    "\n",
    "def lower_quartile(col):\n",
    "    return col.quantile(0.25).round(1)\n",
    "\n",
    "def median(col):\n",
    "    return col.quantile(0.5).round(1)\n",
    "\n",
    "def upper_quartile(col):\n",
    "    return col.quantile(0.75).round(1)\n",
    "\n",
    "#Lấy ra các cột dữ liệu số\n",
    "num_cols = df[['Diện tích','Số phòng ngủ','Số toilet','Mức giá']].copy()\n",
    "\n",
    "#Tính toán các thông sô\n",
    "num_cols_info = num_cols.agg([missing_ratio, \"min\", lower_quartile, median, upper_quartile, \"max\"])\n",
    "\n",
    "num_cols_info"
   ]
  },
  {
   "cell_type": "markdown",
   "id": "1b238ccb-5538-4838-96b0-55c99f38eb00",
   "metadata": {},
   "source": [
    "### 3.3.6 Phân bố của các cột dữ liệu phân loại"
   ]
  },
  {
   "cell_type": "markdown",
   "id": "b75de17e-cbfa-4417-a175-dd8b3c59b32e",
   "metadata": {},
   "source": [
    "Đối với các cột có kiểu dữ liệu không phải số nhóm sẽ tính:\n",
    "\n",
    "- `missing_ratio`: tỷ lệ phần trăm (từ 0 đến 100) giá trị bị thiếu.\n",
    "- `num_values`: số lượng giá trị (các giá trị ở đây là các giá trị khác nhau).\n",
    "- `value_ratios`: tỷ lệ phần trăm (từ 0 đến 100) của mỗi giá trị được sắp xếp theo tỷ lệ phần trăm giảm dần (không xét giá trị thiếu, tỷ lệ là tỷ lệ so với số giá trị không thiếu).\n",
    "\n",
    "**Chú thích:**\n",
    "- Ở đây sẽ không xét thuộc tính `ID`, vì xét phân bố của cột dữ liệu này không có quá nhiều ý nghĩa.\n",
    "- Ở giá trị `value_ratios` của thuộc tính `Ngày đăng tin` vì có quá nhiều giá trị nên sẽ quy đổi về dạng `tháng`-`năm` để tính tỉ lệ tránh hiển thị quá nhiều."
   ]
  },
  {
   "cell_type": "code",
   "execution_count": 13,
   "id": "cf0d39dc-bb02-48d4-b896-7980de0d3be3",
   "metadata": {},
   "outputs": [
    {
     "data": {
      "text/html": [
       "<div>\n",
       "<style scoped>\n",
       "    .dataframe tbody tr th:only-of-type {\n",
       "        vertical-align: middle;\n",
       "    }\n",
       "\n",
       "    .dataframe tbody tr th {\n",
       "        vertical-align: top;\n",
       "    }\n",
       "\n",
       "    .dataframe thead th {\n",
       "        text-align: right;\n",
       "    }\n",
       "</style>\n",
       "<table border=\"1\" class=\"dataframe\">\n",
       "  <thead>\n",
       "    <tr style=\"text-align: right;\">\n",
       "      <th></th>\n",
       "      <th>Địa chỉ</th>\n",
       "      <th>Nội thất</th>\n",
       "      <th>Ngày đăng tin</th>\n",
       "    </tr>\n",
       "  </thead>\n",
       "  <tbody>\n",
       "    <tr>\n",
       "      <th>missing_ratio</th>\n",
       "      <td>0.0</td>\n",
       "      <td>0.0</td>\n",
       "      <td>0.0</td>\n",
       "    </tr>\n",
       "    <tr>\n",
       "      <th>num_values</th>\n",
       "      <td>18</td>\n",
       "      <td>4</td>\n",
       "      <td>67</td>\n",
       "    </tr>\n",
       "    <tr>\n",
       "      <th>value_ratios</th>\n",
       "      <td>{1: 16.1, 2: 15.9, 14: 11.7, 7: 9.6, 9: 8.8, 15: 6.1, 13: 5.9, 3: 5.7, 8: 4.1, 17: 3.9, 16: 3.8, 5: 2.3, 18: 1.8, 4: 1.7, 6: 1.3, 22: 0.9, 21: 0.3, 19: 0.1}</td>\n",
       "      <td>{2: 63.9, 0: 24.2, 1: 11.5, 3: 0.4}</td>\n",
       "      <td>{'2024-10': 50.5, '2024-11': 27.6, '2024-09': 12.4, '2024-12': 9.4}</td>\n",
       "    </tr>\n",
       "  </tbody>\n",
       "</table>\n",
       "</div>"
      ],
      "text/plain": [
       "                                                                                                                                                                    Địa chỉ  \\\n",
       "missing_ratio                                                                                                                                                           0.0   \n",
       "num_values                                                                                                                                                               18   \n",
       "value_ratios   {1: 16.1, 2: 15.9, 14: 11.7, 7: 9.6, 9: 8.8, 15: 6.1, 13: 5.9, 3: 5.7, 8: 4.1, 17: 3.9, 16: 3.8, 5: 2.3, 18: 1.8, 4: 1.7, 6: 1.3, 22: 0.9, 21: 0.3, 19: 0.1}   \n",
       "\n",
       "                                          Nội thất  \\\n",
       "missing_ratio                                  0.0   \n",
       "num_values                                       4   \n",
       "value_ratios   {2: 63.9, 0: 24.2, 1: 11.5, 3: 0.4}   \n",
       "\n",
       "                                                                     Ngày đăng tin  \n",
       "missing_ratio                                                                  0.0  \n",
       "num_values                                                                      67  \n",
       "value_ratios   {'2024-10': 50.5, '2024-11': 27.6, '2024-09': 12.4, '2024-12': 9.4}  "
      ]
     },
     "execution_count": 13,
     "metadata": {},
     "output_type": "execute_result"
    }
   ],
   "source": [
    "def num_values(col):\n",
    "    return len(col.dropna().unique())\n",
    "\n",
    "def value_ratios(col):\n",
    "    if col.name == 'Ngày đăng tin':\n",
    "        col = col.str[:7]\n",
    "    return col.value_counts(normalize=True).mul(100).round(1).to_dict()\n",
    "    \n",
    "pd.set_option('display.max_colwidth', None)\n",
    "\n",
    "#Lấy ra các cột dữ liệu phân loại\n",
    "cat_cols = df[['Địa chỉ','Nội thất','Ngày đăng tin']].copy()\n",
    "\n",
    "#Tính toán các thông số\n",
    "cat_cols_info = cat_cols.agg([missing_ratio, num_values, value_ratios])\n",
    "\n",
    "cat_cols_info "
   ]
  },
  {
   "cell_type": "markdown",
   "id": "c8da4c77-c0bd-4e19-bf52-7da13a869282",
   "metadata": {},
   "source": [
    "# 4. Trực qua hóa và phân tích dữ liệu"
   ]
  },
  {
   "cell_type": "markdown",
   "id": "ec1adff0-7380-43cd-9191-f89890562666",
   "metadata": {},
   "source": [
    "## 4.1 Phân tích cơ bản"
   ]
  },
  {
   "cell_type": "markdown",
   "id": "66f27c6a-08e7-4e34-852e-1463d8625e6c",
   "metadata": {},
   "source": [
    "### Phân bố của các giá trị số rời rạc"
   ]
  },
  {
   "cell_type": "code",
   "execution_count": 14,
   "id": "f5f58169-0c0d-4171-a0eb-e40d5cbddee0",
   "metadata": {},
   "outputs": [
    {
     "data": {
      "image/png": "[encoded data removed]",
      "text/plain": [
       "<Figure size 1000x800 with 4 Axes>"
      ]
     },
     "metadata": {},
     "output_type": "display_data"
    }
   ],
   "source": [
    "#Số phòng ngủ, Số toilet\n",
    "num_discrete_cols = ['Số phòng ngủ', 'Số toilet']\n",
    "fig, axes = plt.subplots(2, 2, figsize=(10, 8))\n",
    "\n",
    "for i, col in enumerate(num_discrete_cols):\n",
    "    axes[i, 0].spines[\"bottom\"].set_visible(False)\n",
    "    axes[i, 0].spines[\"left\"].set_visible(False)\n",
    "    axes[i, 0].spines[\"top\"].set_visible(False)\n",
    "    axes[i, 0].spines[\"right\"].set_visible(False)\n",
    "    axes[i, 0].tick_params(left=False, bottom=False)\n",
    "    axes[i, 0].set_xticklabels([])\n",
    "    axes[i, 0].set_yticklabels([])\n",
    "    axes[i, 0].text(0.5, 0.5,\n",
    "                f'Phân bố dữ liệu của \\nthuộc tính {col}\\n _________________',\n",
    "                horizontalalignment='center',\n",
    "                verticalalignment='center',\n",
    "                fontsize=18, fontweight='bold',\n",
    "                fontfamily='serif',\n",
    "                color=\"#000000\")\n",
    "    \n",
    "    count = df[col].value_counts()\n",
    "    wedges, texts = axes[i, 1].pie(count.values, startangle=140)\n",
    "    axes[i, 1].legend(wedges, [f\"{label}\" for label in count.index],\n",
    "                      title=col, loc=\"center left\", bbox_to_anchor=(1, 0.5))\n",
    "\n",
    "plt.tight_layout()\n",
    "plt.show()"
   ]
  },
  {
   "cell_type": "markdown",
   "id": "a7c3045d-ce08-4d90-9acd-1fa1a72de5d1",
   "metadata": {},
   "source": [
    "#### Nhận xét"
   ]
  },
  {
   "cell_type": "markdown",
   "id": "77c34769-8e1b-45dc-8adb-f1fc6d010896",
   "metadata": {},
   "source": [
    "- Đối với phân bố dữ liệu của thuộc tính Số phòng ngủ:\n",
    "    - Tần suất lớn nhất là 1 phòng ngủ, chiếm áp đảo so với các giá trị khác.\n",
    "    - Các giá trị khác từ 2 trở đi xuất hiện rất ít.\n",
    "- Đối với phân bố dữ liệu của thuộc tính Số toilet:\n",
    "    - Tần suất lớn nhất là 1 toilet, chiếm áp đảo so với các giá trị khác.\n",
    "    - Các giá trị khác từ 2 trở đi xuất hiện rất ít.\n",
    "\n",
    "Điều này cho thấy các phòng trọ có từ 2 phòng ngủ và 2 toilet trở lên là rất hiếm, dữ liệu có sự mất cân đối nghiêm trọng. Cần xem xét lại các thuộc tính này trong việc sử dụng mô hình học máy vì dữ liệu lệch quá nhiều, có thể ảnh hưởng đến kết quả dự đoán."
   ]
  },
  {
   "cell_type": "markdown",
   "id": "e2f1108e-dd57-43dd-88c0-bb131c3a9387",
   "metadata": {},
   "source": [
    "### Phân bố các giá trị số liên tục"
   ]
  },
  {
   "cell_type": "code",
   "execution_count": 15,
   "id": "75312929-189e-447d-964b-218203f45a31",
   "metadata": {},
   "outputs": [
    {
     "data": {
      "image/png": "[encoded data removed]",
      "text/plain": [
       "<Figure size 1000x800 with 4 Axes>"
      ]
     },
     "metadata": {},
     "output_type": "display_data"
    }
   ],
   "source": [
    "#Số phòng ngủ, Số toilet\n",
    "num_continous_cols = ['Diện tích', 'Mức giá']\n",
    "fig, axes = plt.subplots(2, 2, figsize=(10, 8))\n",
    "\n",
    "for i, col in enumerate(num_continous_cols):\n",
    "    axes[i, 0].spines[\"bottom\"].set_visible(False)\n",
    "    axes[i, 0].spines[\"left\"].set_visible(False)\n",
    "    axes[i, 0].spines[\"top\"].set_visible(False)\n",
    "    axes[i, 0].spines[\"right\"].set_visible(False)\n",
    "    axes[i, 0].tick_params(left=False, bottom=False)\n",
    "    axes[i, 0].set_xticklabels([])\n",
    "    axes[i, 0].set_yticklabels([])\n",
    "    axes[i, 0].text(0.5, 0.5,\n",
    "                f'Phân bố dữ liệu của\\n thuộc tính {col}\\n _________________',\n",
    "                horizontalalignment='center',\n",
    "                verticalalignment='center',\n",
    "                fontsize=18, fontweight='bold',\n",
    "                fontfamily='serif',\n",
    "                color=\"#000000\")\n",
    "    sns.histplot(data=df,x=col, kde=True, ax=axes[i, 1], color='blue',bins=22,edgecolor='white')\n",
    "    axes[i,1].set_ylabel('Tần suất')\n",
    "\n",
    "plt.tight_layout()\n",
    "plt.show()"
   ]
  },
  {
   "cell_type": "markdown",
   "id": "cae0f456-67c3-4dd0-8f45-910d62c9a0c6",
   "metadata": {},
   "source": [
    "#### Nhận xét"
   ]
  },
  {
   "cell_type": "markdown",
   "id": "4f40534a-171a-42db-a64f-c58448110deb",
   "metadata": {},
   "source": [
    "- Đối với biểu đồ phân bố dữ liệu của thuộc tính diện tích\n",
    "    - Diện tích rơi vào khoảng từ 10 đến 50m2, với đỉnh phân phối khoảng 30m2, cho thấy đây là mức diện tích phổ biến của nhà trọ cho thuê trong tập dữ liệu.\n",
    "    - Phần đuôi từ mức diện tích 50m2 trở đi kéo dài cho thấy tồn tại các giá trị ngoại lai. Điều này thể hiện sự mất cân đối của biểu đồ.\n",
    "- Đối với biểu đồ phân bố dữ liệu của thuộc tính Mức giá\n",
    "    - Mức giá rơi vào khoảng 3 đến triệu 7 triệu, với đỉnh phân phối khoảng 5 triệu, cho thấy đây là giá tiền phổ biến của nhà trọ cho thuê trong tập dữ liệu.\n",
    "    - Phần đuôi từ mức 10 triệu trở đi kéo dài cho thấy tồn tại các giá trị ngoại lại. Điều này thể hiện sự mất cân đối của biểu đồ.\n",
    "\n",
    "Nhìn chung cả hai biểu đồ đều cho thấy tồn tại các giá trị ngoại lai, để phục vụ cho việc áp dụng mô hình học máy để dự đoán thì các dữ liệu này nên cần được xử lý."
   ]
  },
  {
   "cell_type": "markdown",
   "id": "7f0a3af4-e9de-4486-b0e6-396d63be112f",
   "metadata": {},
   "source": [
    "### Phân bố của các giá trị phân loại"
   ]
  },
  {
   "cell_type": "code",
   "execution_count": 16,
   "id": "789ae4a1-8253-4f3b-b8c3-41fed2ce3731",
   "metadata": {},
   "outputs": [
    {
     "data": {
      "image/png": "[encoded data removed]",
      "text/plain": [
       "<Figure size 1000x800 with 4 Axes>"
      ]
     },
     "metadata": {},
     "output_type": "display_data"
    }
   ],
   "source": [
    "#'Địa chỉ','Nội thất','Ngày đăng tin'\n",
    "cate_cols = ['Địa chỉ','Nội thất','Ngày đăng tin']\n",
    "tmp_df = df.copy()\n",
    "tmp_df['Ngày đăng tin'] = tmp_df['Ngày đăng tin'].str[:7]\n",
    "\n",
    "label_mapping_date = {\n",
    "    '2024-10': 'Tháng 10',\n",
    "    '2024-09': 'Tháng 9',\n",
    "    '2024-11': 'Tháng 11',\n",
    "    '2024-12': 'Tháng 12'\n",
    "}\n",
    "tmp_df['Ngày đăng tin'] = tmp_df['Ngày đăng tin'].replace(label_mapping_date)\n",
    "\n",
    "fig, axes = plt.subplots(2, 2, figsize=(10, 8))\n",
    "\n",
    "axes[0, 0].tick_params(left=False, bottom=False)\n",
    "axes[0, 0].set_xticklabels([])\n",
    "axes[0, 0].set_yticklabels([])\n",
    "axes[0, 0].text(0.5, 0.5,\n",
    "            f'Phân bố dữ liệu của \\ncác giá trị phân loại\\n _________________',\n",
    "            horizontalalignment='center',\n",
    "            verticalalignment='center',\n",
    "            fontsize=18, fontweight='bold',\n",
    "            fontfamily='serif',\n",
    "            color=\"#000000\")\n",
    "\n",
    "\n",
    "for i, col in enumerate(cate_cols):\n",
    "    r = (i + 1) // 2\n",
    "    c = (i + 1) % 2\n",
    "    \n",
    "    count = tmp_df[col].value_counts()\n",
    "    sns.barplot(x=count.index, y=count.values,ax=axes[r,c], color='salmon')\n",
    "    axes[r,c].set_ylabel('Tần xuất')\n",
    "\n",
    "plt.tight_layout()\n",
    "plt.show()"
   ]
  },
  {
   "cell_type": "markdown",
   "id": "068662f3-ae91-46e7-989b-9297c4058641",
   "metadata": {},
   "source": [
    "#### Nhận xét"
   ]
  },
  {
   "cell_type": "markdown",
   "id": "efbdac80-6b67-4c9a-891f-6add51a337cc",
   "metadata": {},
   "source": [
    "- Đối với phân bố dữ liệu của thuộc tính Địa chỉ:\n",
    "    - Các địa chỉ 1 và 2 (quận 1 và quận 2) có số lượng phòng trọ nhiều nhất với tần xuất gần 700 có thể là do đặc điểm kinh tế - xã hội hoặc nhu cầu thuê trọ cao tại đây.\n",
    "    - Ngược lại, một số địa chỉ như 19, 20, và 22 (Cần Giờ, Củ Chi và Hóc Môn) có số lượng rất thấp, cho thấy sự chênh lệch đáng kể về mức độ cung cấp nhà cho thuê.\n",
    "    - Các địa chỉ có tần xuất cao thứ hai có thể kể đến như 7, 9, 14 (quận 7, quận 9 và Tân Bình).\n",
    "- Đối với phân bố dữ liệu của thuộc tính Nội thất:\n",
    "    - Tần xuất của nội thất 2 (Đầy đủ) chiếm cao nhất và có phần áp đảo với trên 2500, cho thấy xu hướng trang bị nội thất đầy đủ ở các phòng trọ cho thuê là nhiều nhất trong tập dữ liệu.\n",
    "    - Tần xuất của nội thất 0 và 1 (Không và Cơ bản) chiểm lần lượt là 1000 và 500.\n",
    "    - Thấp nhất là tần xuất của nội thất 3 (Cao cấp) cho thấy các chủ trọ thường không quá tập trung vào việc trang bị nội thất cao cấp cho các phòng trọ.\n",
    "- Đối với Ngày đăng tin:\n",
    "    - Tháng 10 là tháng được đăng tin tìm kiếm phòng trọ nhiều nhất trong tập dữ liệu này với tần xuất trên 2000, cao hơn rất nhiều so với các tháng còn lại.\n",
    "    - Tháng 9 và tháng 12 là tháng có tần xuất đăng tin ít nhất khi đạt tần xuất khoảng 500 và dưới 500."
   ]
  },
  {
   "cell_type": "code",
   "execution_count": null,
   "id": "0d418f60-86f4-4b52-8e06-26c7caa8164a",
   "metadata": {},
   "outputs": [],
   "source": []
  }
 ],
 "metadata": {
  "kernelspec": {
   "display_name": "Python 3 (ipykernel)",
   "language": "python",
   "name": "python3"
  },
  "language_info": {
   "codemirror_mode": {
    "name": "ipython",
    "version": 3
   },
   "file_extension": ".py",
   "mimetype": "text/x-python",
   "name": "python",
   "nbconvert_exporter": "python",
   "pygments_lexer": "ipython3",
   "version": "3.12.4"
  }
 },
 "nbformat": 4,
 "nbformat_minor": 5
}
