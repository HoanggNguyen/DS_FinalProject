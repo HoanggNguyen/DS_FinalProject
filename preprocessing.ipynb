{
 "cells": [
  {
   "cell_type": "code",
   "execution_count": 1,
   "id": "332fc67d-f35e-462b-a578-9eec22e965a3",
   "metadata": {},
   "outputs": [],
   "source": [
    "import pandas as pd\n",
    "import numpy as np"
   ]
  },
  {
   "cell_type": "markdown",
   "id": "01ec9aee-21dc-4dd9-a4f6-d0c43c699347",
   "metadata": {},
   "source": [
    "### Đọc dữ liệu "
   ]
  },
  {
   "cell_type": "code",
   "execution_count": 2,
   "id": "94600352-8e37-4153-aa6d-77b83045b390",
   "metadata": {},
   "outputs": [],
   "source": [
    "raw_df = pd.read_csv('./Data/DSPhongTro.csv', sep='\\t')"
   ]
  },
  {
   "cell_type": "code",
   "execution_count": 3,
   "id": "639c71e0-e338-4432-9ff3-fd36a7873ada",
   "metadata": {},
   "outputs": [
    {
     "data": {
      "text/html": [
       "<div>\n",
       "<style scoped>\n",
       "    .dataframe tbody tr th:only-of-type {\n",
       "        vertical-align: middle;\n",
       "    }\n",
       "\n",
       "    .dataframe tbody tr th {\n",
       "        vertical-align: top;\n",
       "    }\n",
       "\n",
       "    .dataframe thead th {\n",
       "        text-align: right;\n",
       "    }\n",
       "</style>\n",
       "<table border=\"1\" class=\"dataframe\">\n",
       "  <thead>\n",
       "    <tr style=\"text-align: right;\">\n",
       "      <th></th>\n",
       "      <th>ID</th>\n",
       "      <th>Địa chỉ</th>\n",
       "      <th>Diện tích</th>\n",
       "      <th>Số phòng ngủ</th>\n",
       "      <th>Số toilet</th>\n",
       "      <th>Nội thất</th>\n",
       "      <th>Mức giá</th>\n",
       "      <th>Link</th>\n",
       "      <th>Ngày đăng tin</th>\n",
       "    </tr>\n",
       "  </thead>\n",
       "  <tbody>\n",
       "    <tr>\n",
       "      <th>0</th>\n",
       "      <td>39738459.0</td>\n",
       "      <td>1155/51/20, Đường Tỉnh lộ 43, Phường Bình Chiể...</td>\n",
       "      <td>40.0</td>\n",
       "      <td>NaN</td>\n",
       "      <td>NaN</td>\n",
       "      <td>Không</td>\n",
       "      <td>2.8</td>\n",
       "      <td>https://batdongsan.com.vn/cho-thue-nha-tro-pho...</td>\n",
       "      <td>21/10/2024</td>\n",
       "    </tr>\n",
       "    <tr>\n",
       "      <th>1</th>\n",
       "      <td>40588265.0</td>\n",
       "      <td>Đường 3/2, Phường 11, Quận 10, Hồ Chí Minh</td>\n",
       "      <td>20.0</td>\n",
       "      <td>NaN</td>\n",
       "      <td>NaN</td>\n",
       "      <td>Không</td>\n",
       "      <td>4.0</td>\n",
       "      <td>https://batdongsan.com.vn/cho-thue-nha-tro-pho...</td>\n",
       "      <td>18/10/2024</td>\n",
       "    </tr>\n",
       "    <tr>\n",
       "      <th>2</th>\n",
       "      <td>41251164.0</td>\n",
       "      <td>Số 5/1, Đường Tống Văn Hên, Phường 15, Tân Bìn...</td>\n",
       "      <td>25.0</td>\n",
       "      <td>NaN</td>\n",
       "      <td>NaN</td>\n",
       "      <td>Không</td>\n",
       "      <td>4.5</td>\n",
       "      <td>https://batdongsan.com.vn/cho-thue-nha-tro-pho...</td>\n",
       "      <td>18/10/2024</td>\n",
       "    </tr>\n",
       "    <tr>\n",
       "      <th>3</th>\n",
       "      <td>41278673.0</td>\n",
       "      <td>Đường Cù Chính Lan, Phường 13, Tân Bình, Hồ Ch...</td>\n",
       "      <td>20.0</td>\n",
       "      <td>1.0</td>\n",
       "      <td>1.0</td>\n",
       "      <td>Đầy đủ.</td>\n",
       "      <td>4.0</td>\n",
       "      <td>https://batdongsan.com.vn/cho-thue-nha-tro-pho...</td>\n",
       "      <td>22/10/2024</td>\n",
       "    </tr>\n",
       "    <tr>\n",
       "      <th>4</th>\n",
       "      <td>41290558.0</td>\n",
       "      <td>Đường Ngô Bệ, Phường 13, Tân Bình, Hồ Chí Minh</td>\n",
       "      <td>60.0</td>\n",
       "      <td>2.0</td>\n",
       "      <td>2.0</td>\n",
       "      <td>Không</td>\n",
       "      <td>10.0</td>\n",
       "      <td>https://batdongsan.com.vn/cho-thue-nha-tro-pho...</td>\n",
       "      <td>23/10/2024</td>\n",
       "    </tr>\n",
       "    <tr>\n",
       "      <th>...</th>\n",
       "      <td>...</td>\n",
       "      <td>...</td>\n",
       "      <td>...</td>\n",
       "      <td>...</td>\n",
       "      <td>...</td>\n",
       "      <td>...</td>\n",
       "      <td>...</td>\n",
       "      <td>...</td>\n",
       "      <td>...</td>\n",
       "    </tr>\n",
       "    <tr>\n",
       "      <th>8271</th>\n",
       "      <td>41183873.0</td>\n",
       "      <td>210/18/3, Đường Cách Mạng Tháng Tám, Phường 10...</td>\n",
       "      <td>20.0</td>\n",
       "      <td>NaN</td>\n",
       "      <td>NaN</td>\n",
       "      <td>Không</td>\n",
       "      <td>4.0</td>\n",
       "      <td>https://batdongsan.com.vn/cho-thue-nha-tro-pho...</td>\n",
       "      <td>11/10/2024</td>\n",
       "    </tr>\n",
       "    <tr>\n",
       "      <th>8272</th>\n",
       "      <td>41065843.0</td>\n",
       "      <td>74/49/22, Đường Phan Văn Hớn, Phường Tân Thới ...</td>\n",
       "      <td>14.0</td>\n",
       "      <td>1.0</td>\n",
       "      <td>1.0</td>\n",
       "      <td>Không</td>\n",
       "      <td>1.8</td>\n",
       "      <td>https://batdongsan.com.vn/cho-thue-nha-tro-pho...</td>\n",
       "      <td>11/10/2024</td>\n",
       "    </tr>\n",
       "    <tr>\n",
       "      <th>8273</th>\n",
       "      <td>40801498.0</td>\n",
       "      <td>11, Đường Bàu Bàng, Phường 13, Tân Bình, Hồ Ch...</td>\n",
       "      <td>25.0</td>\n",
       "      <td>1.0</td>\n",
       "      <td>NaN</td>\n",
       "      <td>Không</td>\n",
       "      <td>3.5</td>\n",
       "      <td>https://batdongsan.com.vn/cho-thue-nha-tro-pho...</td>\n",
       "      <td>11/10/2024</td>\n",
       "    </tr>\n",
       "    <tr>\n",
       "      <th>8274</th>\n",
       "      <td>41184033.0</td>\n",
       "      <td>Đường Sư Vạn Hạnh, Phường 12, Quận 10, Hồ Chí ...</td>\n",
       "      <td>35.0</td>\n",
       "      <td>1.0</td>\n",
       "      <td>1.0</td>\n",
       "      <td>Đầy đủ</td>\n",
       "      <td>6.5</td>\n",
       "      <td>https://batdongsan.com.vn/cho-thue-nha-tro-pho...</td>\n",
       "      <td>11/10/2024</td>\n",
       "    </tr>\n",
       "    <tr>\n",
       "      <th>8275</th>\n",
       "      <td>41183931.0</td>\n",
       "      <td>Đường Quang Trung, Phường 11, Gò Vấp, Hồ Chí Minh</td>\n",
       "      <td>15.0</td>\n",
       "      <td>1.0</td>\n",
       "      <td>1.0</td>\n",
       "      <td>Cơ bản.</td>\n",
       "      <td>3.0</td>\n",
       "      <td>https://batdongsan.com.vn/cho-thue-nha-tro-pho...</td>\n",
       "      <td>11/10/2024</td>\n",
       "    </tr>\n",
       "  </tbody>\n",
       "</table>\n",
       "<p>8276 rows × 9 columns</p>\n",
       "</div>"
      ],
      "text/plain": [
       "              ID                                            Địa chỉ  \\\n",
       "0     39738459.0  1155/51/20, Đường Tỉnh lộ 43, Phường Bình Chiể...   \n",
       "1     40588265.0         Đường 3/2, Phường 11, Quận 10, Hồ Chí Minh   \n",
       "2     41251164.0  Số 5/1, Đường Tống Văn Hên, Phường 15, Tân Bìn...   \n",
       "3     41278673.0  Đường Cù Chính Lan, Phường 13, Tân Bình, Hồ Ch...   \n",
       "4     41290558.0     Đường Ngô Bệ, Phường 13, Tân Bình, Hồ Chí Minh   \n",
       "...          ...                                                ...   \n",
       "8271  41183873.0  210/18/3, Đường Cách Mạng Tháng Tám, Phường 10...   \n",
       "8272  41065843.0  74/49/22, Đường Phan Văn Hớn, Phường Tân Thới ...   \n",
       "8273  40801498.0  11, Đường Bàu Bàng, Phường 13, Tân Bình, Hồ Ch...   \n",
       "8274  41184033.0  Đường Sư Vạn Hạnh, Phường 12, Quận 10, Hồ Chí ...   \n",
       "8275  41183931.0  Đường Quang Trung, Phường 11, Gò Vấp, Hồ Chí Minh   \n",
       "\n",
       "      Diện tích  Số phòng ngủ  Số toilet Nội thất Mức giá  \\\n",
       "0          40.0           NaN        NaN    Không     2.8   \n",
       "1          20.0           NaN        NaN    Không     4.0   \n",
       "2          25.0           NaN        NaN    Không     4.5   \n",
       "3          20.0           1.0        1.0  Đầy đủ.     4.0   \n",
       "4          60.0           2.0        2.0    Không    10.0   \n",
       "...         ...           ...        ...      ...     ...   \n",
       "8271       20.0           NaN        NaN    Không     4.0   \n",
       "8272       14.0           1.0        1.0    Không     1.8   \n",
       "8273       25.0           1.0        NaN    Không     3.5   \n",
       "8274       35.0           1.0        1.0   Đầy đủ     6.5   \n",
       "8275       15.0           1.0        1.0  Cơ bản.     3.0   \n",
       "\n",
       "                                                   Link Ngày đăng tin  \n",
       "0     https://batdongsan.com.vn/cho-thue-nha-tro-pho...    21/10/2024  \n",
       "1     https://batdongsan.com.vn/cho-thue-nha-tro-pho...    18/10/2024  \n",
       "2     https://batdongsan.com.vn/cho-thue-nha-tro-pho...    18/10/2024  \n",
       "3     https://batdongsan.com.vn/cho-thue-nha-tro-pho...    22/10/2024  \n",
       "4     https://batdongsan.com.vn/cho-thue-nha-tro-pho...    23/10/2024  \n",
       "...                                                 ...           ...  \n",
       "8271  https://batdongsan.com.vn/cho-thue-nha-tro-pho...    11/10/2024  \n",
       "8272  https://batdongsan.com.vn/cho-thue-nha-tro-pho...    11/10/2024  \n",
       "8273  https://batdongsan.com.vn/cho-thue-nha-tro-pho...    11/10/2024  \n",
       "8274  https://batdongsan.com.vn/cho-thue-nha-tro-pho...    11/10/2024  \n",
       "8275  https://batdongsan.com.vn/cho-thue-nha-tro-pho...    11/10/2024  \n",
       "\n",
       "[8276 rows x 9 columns]"
      ]
     },
     "execution_count": 3,
     "metadata": {},
     "output_type": "execute_result"
    }
   ],
   "source": [
    "#Test\n",
    "raw_df"
   ]
  },
  {
   "cell_type": "markdown",
   "id": "bcfde0bb-8a5f-4042-a49f-595d328796e0",
   "metadata": {},
   "source": [
    "### Xử lí dòng bị thiếu dữ liệu"
   ]
  },
  {
   "cell_type": "code",
   "execution_count": 4,
   "id": "5a9a7156-ddee-4455-b58c-d90ee1ef2dd9",
   "metadata": {},
   "outputs": [
    {
     "data": {
      "text/plain": [
       "ID                  2\n",
       "Địa chỉ             2\n",
       "Diện tích           2\n",
       "Số phòng ngủ     2560\n",
       "Số toilet        2337\n",
       "Nội thất            0\n",
       "Mức giá             9\n",
       "Link                0\n",
       "Ngày đăng tin       2\n",
       "dtype: int64"
      ]
     },
     "execution_count": 4,
     "metadata": {},
     "output_type": "execute_result"
    }
   ],
   "source": [
    "raw_df.isna().sum()"
   ]
  },
  {
   "cell_type": "code",
   "execution_count": 5,
   "id": "2909b491-4bb3-49d7-9b44-0b7edc69ba39",
   "metadata": {},
   "outputs": [],
   "source": [
    "raw_df = raw_df.dropna(subset=['ID', 'Mức giá']) #Bỏ những dòng ko có ID và mức giá"
   ]
  },
  {
   "cell_type": "code",
   "execution_count": 6,
   "id": "a3bee771-37c0-4ea4-9220-9924e92d10be",
   "metadata": {},
   "outputs": [
    {
     "data": {
      "text/plain": [
       "ID                  0\n",
       "Địa chỉ             0\n",
       "Diện tích           0\n",
       "Số phòng ngủ     2551\n",
       "Số toilet        2328\n",
       "Nội thất            0\n",
       "Mức giá             0\n",
       "Link                0\n",
       "Ngày đăng tin       0\n",
       "dtype: int64"
      ]
     },
     "execution_count": 6,
     "metadata": {},
     "output_type": "execute_result"
    }
   ],
   "source": [
    "#Test\n",
    "raw_df.isna().sum()"
   ]
  },
  {
   "cell_type": "code",
   "execution_count": 7,
   "id": "3e1762c5-f969-44d1-8824-8f079a798fbb",
   "metadata": {},
   "outputs": [],
   "source": [
    "#Điền missing value của cột 'Số phòng ngủ', 'Số toilet' = 1.0 vì mỗi phòng trọ đều có tối thiểu 1 phòng ngủ, 1 toilet\n",
    "raw_df = raw_df.fillna(1.0)"
   ]
  },
  {
   "cell_type": "code",
   "execution_count": 8,
   "id": "a7c3878e-f140-46e9-950f-7f28986be20b",
   "metadata": {},
   "outputs": [
    {
     "data": {
      "text/plain": [
       "ID               0\n",
       "Địa chỉ          0\n",
       "Diện tích        0\n",
       "Số phòng ngủ     0\n",
       "Số toilet        0\n",
       "Nội thất         0\n",
       "Mức giá          0\n",
       "Link             0\n",
       "Ngày đăng tin    0\n",
       "dtype: int64"
      ]
     },
     "execution_count": 8,
     "metadata": {},
     "output_type": "execute_result"
    }
   ],
   "source": [
    "#Test\n",
    "raw_df.isna().sum()"
   ]
  },
  {
   "cell_type": "markdown",
   "id": "5be28301-67cd-417a-bfc0-7cd3a666f8b6",
   "metadata": {},
   "source": [
    "### Loại bỏ các dòng có giá trị bất thường"
   ]
  },
  {
   "cell_type": "code",
   "execution_count": 9,
   "id": "bc9b9a47-2e98-4ae7-ac20-ad2e120b28a8",
   "metadata": {},
   "outputs": [
    {
     "data": {
      "text/plain": [
       "ID               float64\n",
       "Địa chỉ           object\n",
       "Diện tích        float64\n",
       "Số phòng ngủ     float64\n",
       "Số toilet        float64\n",
       "Nội thất          object\n",
       "Mức giá           object\n",
       "Link              object\n",
       "Ngày đăng tin     object\n",
       "dtype: object"
      ]
     },
     "execution_count": 9,
     "metadata": {},
     "output_type": "execute_result"
    }
   ],
   "source": [
    "raw_df.dtypes"
   ]
  },
  {
   "cell_type": "code",
   "execution_count": 10,
   "id": "a2b79614-0764-48d7-8d99-712493463725",
   "metadata": {},
   "outputs": [
    {
     "data": {
      "text/plain": [
       "array(['2.8', '4.0', '4.5', '10.0', '7.3', '4.1', '3.5', '4.8', '4.3',\n",
       "       '5.3', '3.4', '7.7', '3.1', '3.2', '3.6', '3.7', '6.0', '3.8',\n",
       "       '8.5', '5.0', '6.5', '4.4', '7.6', '2.5', '3.0', '3.9', '4.9',\n",
       "       '5.8', '5.4', '5.9', '4.7', '3.3', '1.5', '7.0', '2.7', '1.2',\n",
       "       '5.6', 'Thỏa thuận', '5.2', '9.5', '1.4', '6.4', '3.45', '11.0',\n",
       "       '5.5', '1.9', '8.0', '4.2', '6.6', '4.6', '2.2', '2.1', '7.2',\n",
       "       '6.2', '2.0', '1.7', '7.5', '9.0', '6.8', '2.9', '1.45', '2.6',\n",
       "       '1.19', '1.09', '5.7', '5.1', '1.6', '1.35', '8.9', '6.7', '2.3',\n",
       "       '2.4', '4.75', '6.9', '11.5', '8.8', '13.0', '1.3', '5.55', '6.3',\n",
       "       '1.0', '3.95', '1.8', '7.8', '9.9', '1.65', '8.7', '8.3', '8.2',\n",
       "       '7.4', '2.99', '13.5', '6.1', '16.0', '9.2', '1.1', '12.0', '7.9',\n",
       "       '9.8', '500.0', '1.85', '1.95', '3.99', '3.69', '10.5', '15.0',\n",
       "       '4.95', '9.3', '1.32', '14.0', '9.4', '10.9', '11.3', '8.4',\n",
       "       '12.5', '1.39', '4.45', '1.75', '2.45', '8.6', '3.55', '3.78',\n",
       "       '28.0', '170.0', '330.0', '4.99', '8.49', '650.0', '4.19', '12.2'],\n",
       "      dtype=object)"
      ]
     },
     "execution_count": 10,
     "metadata": {},
     "output_type": "execute_result"
    }
   ],
   "source": [
    "raw_df['Mức giá'].unique()"
   ]
  },
  {
   "cell_type": "code",
   "execution_count": 11,
   "id": "29181dc5-068f-4544-86a9-a6e99e22d1e9",
   "metadata": {},
   "outputs": [],
   "source": [
    "raw_df = raw_df[raw_df['Mức giá'] != 'Thỏa thuận'] #bỏ những dòng nào có giá là 'thỏa thuận'"
   ]
  },
  {
   "cell_type": "code",
   "execution_count": 12,
   "id": "69bbd677-5862-4f9c-91a6-3a5691f9a4f3",
   "metadata": {},
   "outputs": [
    {
     "data": {
      "text/plain": [
       "array(['2.8', '4.0', '4.5', '10.0', '7.3', '4.1', '3.5', '4.8', '4.3',\n",
       "       '5.3', '3.4', '7.7', '3.1', '3.2', '3.6', '3.7', '6.0', '3.8',\n",
       "       '8.5', '5.0', '6.5', '4.4', '7.6', '2.5', '3.0', '3.9', '4.9',\n",
       "       '5.8', '5.4', '5.9', '4.7', '3.3', '1.5', '7.0', '2.7', '1.2',\n",
       "       '5.6', '5.2', '9.5', '1.4', '6.4', '3.45', '11.0', '5.5', '1.9',\n",
       "       '8.0', '4.2', '6.6', '4.6', '2.2', '2.1', '7.2', '6.2', '2.0',\n",
       "       '1.7', '7.5', '9.0', '6.8', '2.9', '1.45', '2.6', '1.19', '1.09',\n",
       "       '5.7', '5.1', '1.6', '1.35', '8.9', '6.7', '2.3', '2.4', '4.75',\n",
       "       '6.9', '11.5', '8.8', '13.0', '1.3', '5.55', '6.3', '1.0', '3.95',\n",
       "       '1.8', '7.8', '9.9', '1.65', '8.7', '8.3', '8.2', '7.4', '2.99',\n",
       "       '13.5', '6.1', '16.0', '9.2', '1.1', '12.0', '7.9', '9.8', '500.0',\n",
       "       '1.85', '1.95', '3.99', '3.69', '10.5', '15.0', '4.95', '9.3',\n",
       "       '1.32', '14.0', '9.4', '10.9', '11.3', '8.4', '12.5', '1.39',\n",
       "       '4.45', '1.75', '2.45', '8.6', '3.55', '3.78', '28.0', '170.0',\n",
       "       '330.0', '4.99', '8.49', '650.0', '4.19', '12.2'], dtype=object)"
      ]
     },
     "execution_count": 12,
     "metadata": {},
     "output_type": "execute_result"
    }
   ],
   "source": [
    "#Test\n",
    "raw_df['Mức giá'].unique()"
   ]
  },
  {
   "cell_type": "markdown",
   "id": "550e867e-7d89-4d92-a71d-c4f268a877e6",
   "metadata": {},
   "source": [
    "### Chuẩn hóa cột địa chỉ và nội thất"
   ]
  },
  {
   "cell_type": "code",
   "execution_count": 13,
   "id": "9cc7eda4-4a6f-4c7d-a6d4-e79f7b35007d",
   "metadata": {},
   "outputs": [
    {
     "data": {
      "text/html": [
       "<div>\n",
       "<style scoped>\n",
       "    .dataframe tbody tr th:only-of-type {\n",
       "        vertical-align: middle;\n",
       "    }\n",
       "\n",
       "    .dataframe tbody tr th {\n",
       "        vertical-align: top;\n",
       "    }\n",
       "\n",
       "    .dataframe thead th {\n",
       "        text-align: right;\n",
       "    }\n",
       "</style>\n",
       "<table border=\"1\" class=\"dataframe\">\n",
       "  <thead>\n",
       "    <tr style=\"text-align: right;\">\n",
       "      <th></th>\n",
       "      <th>Địa chỉ</th>\n",
       "      <th>Nội thất</th>\n",
       "    </tr>\n",
       "  </thead>\n",
       "  <tbody>\n",
       "    <tr>\n",
       "      <th>0</th>\n",
       "      <td>1155/51/20, Đường Tỉnh lộ 43, Phường Bình Chiể...</td>\n",
       "      <td>Không</td>\n",
       "    </tr>\n",
       "    <tr>\n",
       "      <th>1</th>\n",
       "      <td>Đường 3/2, Phường 11, Quận 10, Hồ Chí Minh</td>\n",
       "      <td>Không</td>\n",
       "    </tr>\n",
       "    <tr>\n",
       "      <th>2</th>\n",
       "      <td>Số 5/1, Đường Tống Văn Hên, Phường 15, Tân Bìn...</td>\n",
       "      <td>Không</td>\n",
       "    </tr>\n",
       "    <tr>\n",
       "      <th>3</th>\n",
       "      <td>Đường Cù Chính Lan, Phường 13, Tân Bình, Hồ Ch...</td>\n",
       "      <td>Đầy đủ.</td>\n",
       "    </tr>\n",
       "    <tr>\n",
       "      <th>4</th>\n",
       "      <td>Đường Ngô Bệ, Phường 13, Tân Bình, Hồ Chí Minh</td>\n",
       "      <td>Không</td>\n",
       "    </tr>\n",
       "    <tr>\n",
       "      <th>...</th>\n",
       "      <td>...</td>\n",
       "      <td>...</td>\n",
       "    </tr>\n",
       "    <tr>\n",
       "      <th>8271</th>\n",
       "      <td>210/18/3, Đường Cách Mạng Tháng Tám, Phường 10...</td>\n",
       "      <td>Không</td>\n",
       "    </tr>\n",
       "    <tr>\n",
       "      <th>8272</th>\n",
       "      <td>74/49/22, Đường Phan Văn Hớn, Phường Tân Thới ...</td>\n",
       "      <td>Không</td>\n",
       "    </tr>\n",
       "    <tr>\n",
       "      <th>8273</th>\n",
       "      <td>11, Đường Bàu Bàng, Phường 13, Tân Bình, Hồ Ch...</td>\n",
       "      <td>Không</td>\n",
       "    </tr>\n",
       "    <tr>\n",
       "      <th>8274</th>\n",
       "      <td>Đường Sư Vạn Hạnh, Phường 12, Quận 10, Hồ Chí ...</td>\n",
       "      <td>Đầy đủ</td>\n",
       "    </tr>\n",
       "    <tr>\n",
       "      <th>8275</th>\n",
       "      <td>Đường Quang Trung, Phường 11, Gò Vấp, Hồ Chí Minh</td>\n",
       "      <td>Cơ bản.</td>\n",
       "    </tr>\n",
       "  </tbody>\n",
       "</table>\n",
       "<p>8230 rows × 2 columns</p>\n",
       "</div>"
      ],
      "text/plain": [
       "                                                Địa chỉ Nội thất\n",
       "0     1155/51/20, Đường Tỉnh lộ 43, Phường Bình Chiể...    Không\n",
       "1            Đường 3/2, Phường 11, Quận 10, Hồ Chí Minh    Không\n",
       "2     Số 5/1, Đường Tống Văn Hên, Phường 15, Tân Bìn...    Không\n",
       "3     Đường Cù Chính Lan, Phường 13, Tân Bình, Hồ Ch...  Đầy đủ.\n",
       "4        Đường Ngô Bệ, Phường 13, Tân Bình, Hồ Chí Minh    Không\n",
       "...                                                 ...      ...\n",
       "8271  210/18/3, Đường Cách Mạng Tháng Tám, Phường 10...    Không\n",
       "8272  74/49/22, Đường Phan Văn Hớn, Phường Tân Thới ...    Không\n",
       "8273  11, Đường Bàu Bàng, Phường 13, Tân Bình, Hồ Ch...    Không\n",
       "8274  Đường Sư Vạn Hạnh, Phường 12, Quận 10, Hồ Chí ...   Đầy đủ\n",
       "8275  Đường Quang Trung, Phường 11, Gò Vấp, Hồ Chí Minh  Cơ bản.\n",
       "\n",
       "[8230 rows x 2 columns]"
      ]
     },
     "execution_count": 13,
     "metadata": {},
     "output_type": "execute_result"
    }
   ],
   "source": [
    "raw_df[['Địa chỉ', 'Nội thất']]"
   ]
  },
  {
   "cell_type": "code",
   "execution_count": 14,
   "id": "0de34fa6-dfc9-41c6-861e-3c9b92133f8e",
   "metadata": {},
   "outputs": [],
   "source": [
    "#chuyển địa chỉ thành số\n",
    "def district_to_number(address, districts):\n",
    "    for district, value in districts.items():\n",
    "        if district in address:\n",
    "            return value\n",
    "    return 0\n",
    "\n",
    "districts = pd.read_csv('./Data/address.txt', sep=':', header=None)\n",
    "districts = districts.set_index(0)[1].to_dict()\n",
    "\n",
    "raw_df['Địa chỉ'] = raw_df['Địa chỉ'].apply(lambda x: district_to_number(x, districts))"
   ]
  },
  {
   "cell_type": "code",
   "execution_count": 15,
   "id": "8ca94c3b-5cb5-4b52-9fd7-d87f00110118",
   "metadata": {},
   "outputs": [],
   "source": [
    "#chuyển nội thất thành số\n",
    "def furniture_to_number(furniture, dict_furniture):\n",
    "    for fur, value in dict_furniture.items():\n",
    "        if fur.lower() in furniture.lower():\n",
    "            return value\n",
    "    return 2\n",
    "\n",
    "dict_furniture = pd.read_csv('./Data/furniture.txt', sep=':', header=None).set_index(0)[1].to_dict()\n",
    "\n",
    "raw_df['Nội thất'] = raw_df['Nội thất'].apply(lambda x: furniture_to_number(x, dict_furniture))"
   ]
  },
  {
   "cell_type": "code",
   "execution_count": 16,
   "id": "0db47997-f9e2-43d8-93b6-a802f29ca6f4",
   "metadata": {},
   "outputs": [
    {
     "data": {
      "text/html": [
       "<div>\n",
       "<style scoped>\n",
       "    .dataframe tbody tr th:only-of-type {\n",
       "        vertical-align: middle;\n",
       "    }\n",
       "\n",
       "    .dataframe tbody tr th {\n",
       "        vertical-align: top;\n",
       "    }\n",
       "\n",
       "    .dataframe thead th {\n",
       "        text-align: right;\n",
       "    }\n",
       "</style>\n",
       "<table border=\"1\" class=\"dataframe\">\n",
       "  <thead>\n",
       "    <tr style=\"text-align: right;\">\n",
       "      <th></th>\n",
       "      <th>Địa chỉ</th>\n",
       "      <th>Nội thất</th>\n",
       "    </tr>\n",
       "  </thead>\n",
       "  <tbody>\n",
       "    <tr>\n",
       "      <th>0</th>\n",
       "      <td>17</td>\n",
       "      <td>0</td>\n",
       "    </tr>\n",
       "    <tr>\n",
       "      <th>1</th>\n",
       "      <td>1</td>\n",
       "      <td>0</td>\n",
       "    </tr>\n",
       "    <tr>\n",
       "      <th>2</th>\n",
       "      <td>14</td>\n",
       "      <td>0</td>\n",
       "    </tr>\n",
       "    <tr>\n",
       "      <th>3</th>\n",
       "      <td>14</td>\n",
       "      <td>2</td>\n",
       "    </tr>\n",
       "    <tr>\n",
       "      <th>4</th>\n",
       "      <td>14</td>\n",
       "      <td>0</td>\n",
       "    </tr>\n",
       "    <tr>\n",
       "      <th>...</th>\n",
       "      <td>...</td>\n",
       "      <td>...</td>\n",
       "    </tr>\n",
       "    <tr>\n",
       "      <th>8271</th>\n",
       "      <td>3</td>\n",
       "      <td>0</td>\n",
       "    </tr>\n",
       "    <tr>\n",
       "      <th>8272</th>\n",
       "      <td>1</td>\n",
       "      <td>0</td>\n",
       "    </tr>\n",
       "    <tr>\n",
       "      <th>8273</th>\n",
       "      <td>14</td>\n",
       "      <td>0</td>\n",
       "    </tr>\n",
       "    <tr>\n",
       "      <th>8274</th>\n",
       "      <td>1</td>\n",
       "      <td>2</td>\n",
       "    </tr>\n",
       "    <tr>\n",
       "      <th>8275</th>\n",
       "      <td>9</td>\n",
       "      <td>1</td>\n",
       "    </tr>\n",
       "  </tbody>\n",
       "</table>\n",
       "<p>8230 rows × 2 columns</p>\n",
       "</div>"
      ],
      "text/plain": [
       "      Địa chỉ  Nội thất\n",
       "0          17         0\n",
       "1           1         0\n",
       "2          14         0\n",
       "3          14         2\n",
       "4          14         0\n",
       "...       ...       ...\n",
       "8271        3         0\n",
       "8272        1         0\n",
       "8273       14         0\n",
       "8274        1         2\n",
       "8275        9         1\n",
       "\n",
       "[8230 rows x 2 columns]"
      ]
     },
     "execution_count": 16,
     "metadata": {},
     "output_type": "execute_result"
    }
   ],
   "source": [
    "#Test\n",
    "raw_df[['Địa chỉ', 'Nội thất']]"
   ]
  },
  {
   "cell_type": "markdown",
   "id": "c3c9e1c6-cd1b-435a-9f89-9830d3d51670",
   "metadata": {},
   "source": [
    "### Chỉnh sửa kiểu dữ liệu cho từng cột"
   ]
  },
  {
   "cell_type": "code",
   "execution_count": 17,
   "id": "d1dc6ed0-3adb-4a50-88ac-8c853e97d18b",
   "metadata": {},
   "outputs": [
    {
     "data": {
      "text/plain": [
       "ID               float64\n",
       "Địa chỉ            int64\n",
       "Diện tích        float64\n",
       "Số phòng ngủ     float64\n",
       "Số toilet        float64\n",
       "Nội thất           int64\n",
       "Mức giá           object\n",
       "Link              object\n",
       "Ngày đăng tin     object\n",
       "dtype: object"
      ]
     },
     "execution_count": 17,
     "metadata": {},
     "output_type": "execute_result"
    }
   ],
   "source": [
    "raw_df.dtypes"
   ]
  },
  {
   "cell_type": "code",
   "execution_count": 18,
   "id": "2b1bcdee-b043-4f74-8e4f-7cbc4ad3558a",
   "metadata": {},
   "outputs": [],
   "source": [
    "raw_df['ID'] = raw_df['ID'].astype('category')\n",
    "raw_df['Mức giá'] = raw_df['Mức giá'].astype(np.float64)\n",
    "raw_df['Ngày đăng tin'] = pd.to_datetime(raw_df['Ngày đăng tin'], format='%d/%m/%Y')\n",
    "raw_df['Địa chỉ'] = raw_df['Địa chỉ'].astype('category')\n",
    "raw_df['Nội thất'] = raw_df['Nội thất'].astype('category')"
   ]
  },
  {
   "cell_type": "code",
   "execution_count": 19,
   "id": "c2aff92f-1307-437a-a877-c606fb1a4f73",
   "metadata": {},
   "outputs": [
    {
     "data": {
      "text/plain": [
       "ID                     category\n",
       "Địa chỉ                category\n",
       "Diện tích               float64\n",
       "Số phòng ngủ            float64\n",
       "Số toilet               float64\n",
       "Nội thất               category\n",
       "Mức giá                 float64\n",
       "Link                     object\n",
       "Ngày đăng tin    datetime64[ns]\n",
       "dtype: object"
      ]
     },
     "execution_count": 19,
     "metadata": {},
     "output_type": "execute_result"
    }
   ],
   "source": [
    "#Test\n",
    "raw_df.dtypes"
   ]
  },
  {
   "cell_type": "markdown",
   "id": "73e430ee-39c0-4cf7-8b0d-044f5d98145b",
   "metadata": {},
   "source": [
    "### Lưu dữ liệu đã xử lí"
   ]
  },
  {
   "cell_type": "code",
   "execution_count": 20,
   "id": "178163a2-624c-4a1e-862c-436d65eecc58",
   "metadata": {},
   "outputs": [],
   "source": [
    "#Lưu dữ liệu đã xử lý vào file csv\n",
    "raw_df.to_csv('./Data/DSPhongTro_DaXuLy.csv', encoding='utf-8-sig', header=True, sep='\\t')"
   ]
  }
 ],
 "metadata": {
  "kernelspec": {
   "display_name": "Python 3 (ipykernel)",
   "language": "python",
   "name": "python3"
  },
  "language_info": {
   "codemirror_mode": {
    "name": "ipython",
    "version": 3
   },
   "file_extension": ".py",
   "mimetype": "text/x-python",
   "name": "python",
   "nbconvert_exporter": "python",
   "pygments_lexer": "ipython3",
   "version": "3.10.15"
  }
 },
 "nbformat": 4,
 "nbformat_minor": 5
}
