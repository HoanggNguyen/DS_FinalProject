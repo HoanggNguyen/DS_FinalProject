{
 "cells": [
  {
   "cell_type": "markdown",
   "id": "278b68b4",
   "metadata": {},
   "source": [
    "<div style=\"text-align: center; background-color: #bd4f0a; font-family: 'Trebuchet MS', Arial, sans-serif; color: white; padding: 20px; font-size: 36px; font-weight: bold; border-radius: 0 0 0 0; box-shadow: 0px 6px 8px rgba(0, 0, 0, 0.2);\">\n",
    "  TIỀN XỬ LÝ - KHÁM PHÁ DỮ LIỆU\n",
    "</div>"
   ]
  },
  {
   "cell_type": "markdown",
   "id": "6c1708ff",
   "metadata": {},
   "source": [
    "### Thông tin nhóm:\n",
    "\n",
    "<center>\n",
    "\n",
    "| HỌ TÊN                | MSSV      |\n",
    "|:------------------    |:--------: |\n",
    "| Nguyễn Đức Mạnh    | 20120019  |\n",
    "| Nguyễn Văn Hiến    | 22120101  |\n",
    "| Đặng Minh Hoàng       | 22120110  |\n",
    "| Nguyễn Ngọc Hoàng     | 22120112  |\n",
    "| Quách Tề Hoằng     | 22120114  |\n",
    "\n",
    "</center>\n",
    "\n",
    "\n",
    "### Giảng viên hướng dẫn: \n",
    "##### **Thầy Lê Nhựt Nam**\n",
    "##### **Thầy Lê Ngọc Thành**\n",
    "---"
   ]
  },
  {
   "cell_type": "markdown",
   "id": "331f865f",
   "metadata": {},
   "source": [
    "## Nội dung <a id=\"content\"></a>\n",
    "1. [Khai báo thư viện](#library)  \n",
    "2. [Lấy dữ liệu](#collect)  \n",
    "3. [Tiền xử lí dữ liệu](#reprocessing)  \n",
    "    3.1 [Xử lí dòng bị thiếu](#missing) <br>\n",
    "    3.2 [Xử lí trùng lắp](#duplicate) <br>\n",
    "    3.3 [Loại bỏ bất thường](#difference) <br>\n",
    "    3.4 [Chuẩn hoá dữ liệu](#normalize)  \n",
    "    3.5 [Xoá cột không có ý nghĩa](#delete) <br>\n",
    "    3.6 [Chỉnh sửa kiểu dữ liệu](#adjust) <br>\n",
    "    3.7 [Xử lý ngoại lai](#outlier) <br>\n",
    "    3.8 [Lưu dữ liệu đã tiền xử lý](#save) <br>\n",
    "    \n",
    "4. [Khám phá dữ liệu](#exploration)  \n",
    "    4.1 [Lấy dữ liệu](#collection) <br>\n",
    "    4.2 [Cấu trúc tập dữ liệu](#structure) <br>\n",
    "    4.3 [Khám phá các dòng](#row) <br>\n",
    "    4.4 [Khám phá các cột](#column) <br>  \n",
    "\n",
    "5. [Trực quan hoá và phân tích](#visualization) <br>\n",
    "    5.1 [Phân bố các giá trị số rời rạc](#discrete) <br>\n",
    "    5.2 [Phân bố các giá trị số liên tục](#continuous) <br>\n",
    "    5.3 [Phân bố các giá trị phân loại](#category) <br>"
   ]
  },
  {
   "cell_type": "markdown",
   "id": "a4cca64f-b7a4-4d48-9b6e-b5e10ec82044",
   "metadata": {},
   "source": [
    "# 1. Khai báo thư viện <a id=\"library\"></a>\n",
    "###### [(Về trang đầu)](#content)"
   ]
  },
  {
   "cell_type": "code",
   "execution_count": 1,
   "id": "09d8d4e4-08e9-418d-8e92-a03748ac7c84",
   "metadata": {},
   "outputs": [],
   "source": [
    "import numpy as np\n",
    "import pandas as pd\n",
    "import seaborn as sns\n",
    "import missingno as msno\n",
    "from matplotlib import pyplot as plt"
   ]
  },
  {
   "cell_type": "markdown",
   "id": "e6a11136-129e-42dc-ad12-143cbd173549",
   "metadata": {},
   "source": [
    "# 2. Thu thập dữ liệu <a id=\"collect\"></a>\n",
    "###### [(Về trang đầu)](#content)"
   ]
  },
  {
   "cell_type": "code",
   "execution_count": 2,
   "id": "f503e2be-b364-4d21-954f-75361c9a2743",
   "metadata": {},
   "outputs": [
    {
     "data": {
      "text/html": [
       "<div>\n",
       "<style scoped>\n",
       "    .dataframe tbody tr th:only-of-type {\n",
       "        vertical-align: middle;\n",
       "    }\n",
       "\n",
       "    .dataframe tbody tr th {\n",
       "        vertical-align: top;\n",
       "    }\n",
       "\n",
       "    .dataframe thead th {\n",
       "        text-align: right;\n",
       "    }\n",
       "</style>\n",
       "<table border=\"1\" class=\"dataframe\">\n",
       "  <thead>\n",
       "    <tr style=\"text-align: right;\">\n",
       "      <th></th>\n",
       "      <th>ID</th>\n",
       "      <th>Địa chỉ</th>\n",
       "      <th>Diện tích</th>\n",
       "      <th>Số phòng ngủ</th>\n",
       "      <th>Số toilet</th>\n",
       "      <th>Nội thất</th>\n",
       "      <th>Mức giá</th>\n",
       "      <th>Link</th>\n",
       "      <th>Ngày đăng tin</th>\n",
       "    </tr>\n",
       "  </thead>\n",
       "  <tbody>\n",
       "    <tr>\n",
       "      <th>0</th>\n",
       "      <td>39738459.0</td>\n",
       "      <td>1155/51/20, Đường Tỉnh lộ 43, Phường Bình Chiể...</td>\n",
       "      <td>40.0</td>\n",
       "      <td>NaN</td>\n",
       "      <td>NaN</td>\n",
       "      <td>Không</td>\n",
       "      <td>2.8</td>\n",
       "      <td>https://batdongsan.com.vn/cho-thue-nha-tro-pho...</td>\n",
       "      <td>21/10/2024</td>\n",
       "    </tr>\n",
       "    <tr>\n",
       "      <th>1</th>\n",
       "      <td>40588265.0</td>\n",
       "      <td>Đường 3/2, Phường 11, Quận 10, Hồ Chí Minh</td>\n",
       "      <td>20.0</td>\n",
       "      <td>NaN</td>\n",
       "      <td>NaN</td>\n",
       "      <td>Không</td>\n",
       "      <td>4.0</td>\n",
       "      <td>https://batdongsan.com.vn/cho-thue-nha-tro-pho...</td>\n",
       "      <td>18/10/2024</td>\n",
       "    </tr>\n",
       "    <tr>\n",
       "      <th>2</th>\n",
       "      <td>41251164.0</td>\n",
       "      <td>Số 5/1, Đường Tống Văn Hên, Phường 15, Tân Bìn...</td>\n",
       "      <td>25.0</td>\n",
       "      <td>NaN</td>\n",
       "      <td>NaN</td>\n",
       "      <td>Không</td>\n",
       "      <td>4.5</td>\n",
       "      <td>https://batdongsan.com.vn/cho-thue-nha-tro-pho...</td>\n",
       "      <td>18/10/2024</td>\n",
       "    </tr>\n",
       "    <tr>\n",
       "      <th>3</th>\n",
       "      <td>41278673.0</td>\n",
       "      <td>Đường Cù Chính Lan, Phường 13, Tân Bình, Hồ Ch...</td>\n",
       "      <td>20.0</td>\n",
       "      <td>1.0</td>\n",
       "      <td>1.0</td>\n",
       "      <td>Đầy đủ.</td>\n",
       "      <td>4.0</td>\n",
       "      <td>https://batdongsan.com.vn/cho-thue-nha-tro-pho...</td>\n",
       "      <td>22/10/2024</td>\n",
       "    </tr>\n",
       "    <tr>\n",
       "      <th>4</th>\n",
       "      <td>41290558.0</td>\n",
       "      <td>Đường Ngô Bệ, Phường 13, Tân Bình, Hồ Chí Minh</td>\n",
       "      <td>60.0</td>\n",
       "      <td>2.0</td>\n",
       "      <td>2.0</td>\n",
       "      <td>Không</td>\n",
       "      <td>10.0</td>\n",
       "      <td>https://batdongsan.com.vn/cho-thue-nha-tro-pho...</td>\n",
       "      <td>23/10/2024</td>\n",
       "    </tr>\n",
       "  </tbody>\n",
       "</table>\n",
       "</div>"
      ],
      "text/plain": [
       "           ID                                            Địa chỉ  Diện tích  \\\n",
       "0  39738459.0  1155/51/20, Đường Tỉnh lộ 43, Phường Bình Chiể...       40.0   \n",
       "1  40588265.0         Đường 3/2, Phường 11, Quận 10, Hồ Chí Minh       20.0   \n",
       "2  41251164.0  Số 5/1, Đường Tống Văn Hên, Phường 15, Tân Bìn...       25.0   \n",
       "3  41278673.0  Đường Cù Chính Lan, Phường 13, Tân Bình, Hồ Ch...       20.0   \n",
       "4  41290558.0     Đường Ngô Bệ, Phường 13, Tân Bình, Hồ Chí Minh       60.0   \n",
       "\n",
       "   Số phòng ngủ  Số toilet Nội thất Mức giá  \\\n",
       "0           NaN        NaN    Không     2.8   \n",
       "1           NaN        NaN    Không     4.0   \n",
       "2           NaN        NaN    Không     4.5   \n",
       "3           1.0        1.0  Đầy đủ.     4.0   \n",
       "4           2.0        2.0    Không    10.0   \n",
       "\n",
       "                                                Link Ngày đăng tin  \n",
       "0  https://batdongsan.com.vn/cho-thue-nha-tro-pho...    21/10/2024  \n",
       "1  https://batdongsan.com.vn/cho-thue-nha-tro-pho...    18/10/2024  \n",
       "2  https://batdongsan.com.vn/cho-thue-nha-tro-pho...    18/10/2024  \n",
       "3  https://batdongsan.com.vn/cho-thue-nha-tro-pho...    22/10/2024  \n",
       "4  https://batdongsan.com.vn/cho-thue-nha-tro-pho...    23/10/2024  "
      ]
     },
     "execution_count": 2,
     "metadata": {},
     "output_type": "execute_result"
    }
   ],
   "source": [
    "raw_df = pd.read_csv('./Data/DSPhongTro.csv', sep='\\t')\n",
    "raw_df.head()"
   ]
  },
  {
   "cell_type": "markdown",
   "id": "6124d290-b00c-4384-9748-b33448398cc7",
   "metadata": {},
   "source": [
    "# 3. Tiền xử lý dữ liệu <a id=\"reprocessing\"></a>\n",
    "###### [(Về trang đầu)](#content)"
   ]
  },
  {
   "cell_type": "markdown",
   "id": "92b3513e-06a6-410f-9438-a1bea33df687",
   "metadata": {},
   "source": [
    "## 3.1 Xử lý dòng bị thiếu <a id=\"missing\"></a>"
   ]
  },
  {
   "cell_type": "markdown",
   "id": "41ac8e6c",
   "metadata": {},
   "source": [
    "#### Kiểm tra số lượng bị thiếu dữ liệu"
   ]
  },
  {
   "cell_type": "code",
   "execution_count": 3,
   "id": "32ec2be8-ba35-4932-9d0b-a5f554017925",
   "metadata": {},
   "outputs": [
    {
     "data": {
      "text/plain": [
       "ID                  3\n",
       "Địa chỉ             3\n",
       "Diện tích           3\n",
       "Số phòng ngủ     4114\n",
       "Số toilet        3782\n",
       "Nội thất            0\n",
       "Mức giá            10\n",
       "Link                0\n",
       "Ngày đăng tin       3\n",
       "dtype: int64"
      ]
     },
     "execution_count": 3,
     "metadata": {},
     "output_type": "execute_result"
    }
   ],
   "source": [
    "raw_df.isna().sum()"
   ]
  },
  {
   "cell_type": "markdown",
   "id": "f66b6979",
   "metadata": {},
   "source": [
    "#### Trực quan hóa dữ liệu bị thiếu"
   ]
  },
  {
   "cell_type": "code",
   "execution_count": 4,
   "id": "0eb16690-93c9-4d8d-a3ce-aad9a3ecfd7a",
   "metadata": {},
   "outputs": [
    {
     "data": {
      "text/plain": [
       "<Axes: >"
      ]
     },
     "execution_count": 4,
     "metadata": {},
     "output_type": "execute_result"
    },
    {
     "data": {
      "image/png": "[encoded data removed]",
      "text/plain": [
       "<Figure size 2500x1000 with 2 Axes>"
      ]
     },
     "metadata": {},
     "output_type": "display_data"
    }
   ],
   "source": [
    "msno.matrix(raw_df, color=(0.8, 0.5, 0.2))"
   ]
  },
  {
   "cell_type": "markdown",
   "id": "71d70fab-70cd-463e-9043-e528f2fcefa0",
   "metadata": {},
   "source": [
    "### Nhận xét"
   ]
  },
  {
   "cell_type": "markdown",
   "id": "20df0918-ddf4-4b8b-bd25-65ffb570dec9",
   "metadata": {},
   "source": [
    "- Từ biểu đồ chúng ta có thể thấy 2 cột 'Số phòng ngủ' và 'Số toilet' có tỉ lệ thiếu dữ liệu khá lớn => Chúng ta sẽ loại bỏ các dòng bị thiếu dữ liệu để tránh việc nó ảnh hưởng đến kết quả phân tích sau này.\n",
    "- Còn một số cột khác cũng bị thiếu dữ liệu nhưng rất ít => chúng ta cũng có thể bỏ những dòng này mà không sợ ảnh hưởng đến kết quả sau này."
   ]
  },
  {
   "cell_type": "code",
   "execution_count": 5,
   "id": "43a05595-9427-4fbc-b6a2-8d9c5b4d615b",
   "metadata": {},
   "outputs": [],
   "source": [
    "raw_df = raw_df.dropna(subset=['ID', 'Địa chỉ',\n",
    "                               'Diện tích', 'Mức giá', \n",
    "                               'Ngày đăng tin', 'Số phòng ngủ', 'Số toilet'])"
   ]
  },
  {
   "cell_type": "markdown",
   "id": "6f5e75cf",
   "metadata": {},
   "source": [
    "#### Bộ dữ liệu sau khi xử lí dữ liệu thiếu"
   ]
  },
  {
   "cell_type": "code",
   "execution_count": 6,
   "id": "6f1b4c51-b7d1-4621-8944-7b9d3751ea16",
   "metadata": {},
   "outputs": [
    {
     "data": {
      "text/plain": [
       "ID               0\n",
       "Địa chỉ          0\n",
       "Diện tích        0\n",
       "Số phòng ngủ     0\n",
       "Số toilet        0\n",
       "Nội thất         0\n",
       "Mức giá          0\n",
       "Link             0\n",
       "Ngày đăng tin    0\n",
       "dtype: int64"
      ]
     },
     "execution_count": 6,
     "metadata": {},
     "output_type": "execute_result"
    }
   ],
   "source": [
    "#Test\n",
    "raw_df.isna().sum()"
   ]
  },
  {
   "cell_type": "markdown",
   "id": "8fbde613-99de-4f0f-bfd2-7d5f16d1f0c0",
   "metadata": {},
   "source": [
    "## 3.2 Xử lý trùng lắp dữ liệu <a id=\"duplicate\"></a>\n",
    "###### [(Về trang đầu)](#content)"
   ]
  },
  {
   "cell_type": "code",
   "execution_count": 7,
   "id": "cf3adefd-cb61-421c-971e-b66fe130ca96",
   "metadata": {},
   "outputs": [
    {
     "name": "stdout",
     "output_type": "stream",
     "text": [
      "Số lượng dòng dữ liệu bị trùng lặp: 3478\n"
     ]
    }
   ],
   "source": [
    "#Test\n",
    "print(f'Số lượng dòng dữ liệu bị trùng lặp: {raw_df.duplicated().sum()}')"
   ]
  },
  {
   "cell_type": "code",
   "execution_count": 8,
   "id": "bdf7819d-0189-4e9a-84e3-f849b5e55e8f",
   "metadata": {},
   "outputs": [],
   "source": [
    "#Loại bỏ dòng trùng lắp\n",
    "raw_df.drop_duplicates(inplace=True)"
   ]
  },
  {
   "cell_type": "code",
   "execution_count": 9,
   "id": "9d6cd80b-e9c5-4d3f-ba34-d6978b98e031",
   "metadata": {},
   "outputs": [
    {
     "name": "stdout",
     "output_type": "stream",
     "text": [
      "Số lượng dòng dữ liệu bị trùng lặp sau khi xử lý: 0\n"
     ]
    }
   ],
   "source": [
    "#Test\n",
    "print(f'Số lượng dòng dữ liệu bị trùng lặp sau khi xử lý: {raw_df.duplicated().sum()}')"
   ]
  },
  {
   "cell_type": "markdown",
   "id": "86c74b8f-6cc2-48ed-88cd-059fd296e0e5",
   "metadata": {},
   "source": [
    "## 3.3 Loại bỏ giá trị bất thường <a id=\"difference\"></a>\n",
    "###### [(Về trang đầu)](#content)"
   ]
  },
  {
   "cell_type": "markdown",
   "id": "c8b05f5e",
   "metadata": {},
   "source": [
    "#### Kiểm tra loại cho từng cột"
   ]
  },
  {
   "cell_type": "code",
   "execution_count": 10,
   "id": "80c1dfe8-d129-44f2-acfc-d6826e68e37b",
   "metadata": {},
   "outputs": [
    {
     "data": {
      "text/plain": [
       "ID               float64\n",
       "Địa chỉ           object\n",
       "Diện tích        float64\n",
       "Số phòng ngủ     float64\n",
       "Số toilet        float64\n",
       "Nội thất          object\n",
       "Mức giá           object\n",
       "Link              object\n",
       "Ngày đăng tin     object\n",
       "dtype: object"
      ]
     },
     "execution_count": 10,
     "metadata": {},
     "output_type": "execute_result"
    }
   ],
   "source": [
    "raw_df.dtypes"
   ]
  },
  {
   "cell_type": "markdown",
   "id": "22859a3c-bebb-45cf-9d1e-51ead960bbed",
   "metadata": {},
   "source": [
    "- Chúng ta có thể thấy cột 'Mức giá' đáng lẽ ra phải có kiểu dữ liệu là float nhưng ở đây cột 'Mức giá' lại có kiểu object => Chúng ta cần kiểm tra các giá trị trong cột 'Mức giá'"
   ]
  },
  {
   "cell_type": "code",
   "execution_count": 11,
   "id": "bf1ff3cc-9a08-4643-bc3f-d2101586780e",
   "metadata": {},
   "outputs": [
    {
     "data": {
      "text/plain": [
       "array(['4.0', '10.0', '7.3', '4.1', '2.8', '4.8', '3.4', '7.7', '4.5',\n",
       "       '3.2', '3.6', '6.0', '3.5', '3.8', '8.5', '5.0', '4.4', '7.6',\n",
       "       '3.7', '4.9', '5.4', '5.9', '6.5', '4.7', '2.5', '3.3', '7.0',\n",
       "       '1.5', '1.2', '5.6', '5.8', '5.2', '9.5', '6.4', '3.0', '3.9',\n",
       "       '3.45', '11.0', '5.5', '1.9', '8.0', '4.2', '6.6', '4.3', '7.2',\n",
       "       '4.6', '7.5', '9.0', '6.8', '2.9', '2.6', '1.19', '1.09', '6.2',\n",
       "       'Thỏa thuận', '2.7', '5.7', '5.1', '8.9', '6.7', '4.75', '6.9',\n",
       "       '11.5', '5.3', '8.8', '13.0', '5.55', '6.3', '1.4', '3.95', '1.8',\n",
       "       '1.65', '8.7', '8.3', '1.0', '2.2', '3.1', '7.4', '2.99', '13.5',\n",
       "       '6.1', '16.0', '2.3', '9.2', '2.0', '7.8', '12.0', '7.9', '9.8',\n",
       "       '1.95', '1.6', '10.5', '15.0', '4.95', '9.3', '1.32', '14.0',\n",
       "       '1.7', '9.4', '10.9', '2.4', '11.3', '8.4', '2.1', '1.39', '4.45',\n",
       "       '1.75', '1.35', '2.45', '8.6', '1.3', '9.9', '1.1', '3.55', '28.0',\n",
       "       '8.49', '650.0', '12.2', '900.0', '1.15', '1.78', '18.0', '4.99',\n",
       "       '999.0', '3.19', '800.0', '1.55', '4.79', '8.2', '1.99', '3.85'],\n",
       "      dtype=object)"
      ]
     },
     "execution_count": 11,
     "metadata": {},
     "output_type": "execute_result"
    }
   ],
   "source": [
    "#Kiểm tra các giá trị của cột mức giá\n",
    "raw_df['Mức giá'].unique()"
   ]
  },
  {
   "cell_type": "markdown",
   "id": "027d9920-7549-4d36-8146-46a9da71f212",
   "metadata": {},
   "source": [
    "- Chúng ta có thể thấy có giá trị bất thường là  'Thỏa thuận' ở trong cột 'Mức giá' => bỏ những dòng có giá trị này"
   ]
  },
  {
   "cell_type": "code",
   "execution_count": 12,
   "id": "c21723ff-66d3-4905-b2d2-e8c1c78b01dc",
   "metadata": {},
   "outputs": [],
   "source": [
    "raw_df = raw_df[raw_df['Mức giá'] != 'Thỏa thuận'].reset_index(drop=True) #bỏ những dòng nào có giá là 'thỏa thuận'"
   ]
  },
  {
   "cell_type": "markdown",
   "id": "bd9a1448",
   "metadata": {},
   "source": [
    "#### Kiểm tra sau khi loại bỏ"
   ]
  },
  {
   "cell_type": "code",
   "execution_count": 13,
   "id": "4aa16845-69c4-41f6-b6f3-d9b63c7b9d2b",
   "metadata": {},
   "outputs": [
    {
     "data": {
      "text/plain": [
       "array(['4.0', '10.0', '7.3', '4.1', '2.8', '4.8', '3.4', '7.7', '4.5',\n",
       "       '3.2', '3.6', '6.0', '3.5', '3.8', '8.5', '5.0', '4.4', '7.6',\n",
       "       '3.7', '4.9', '5.4', '5.9', '6.5', '4.7', '2.5', '3.3', '7.0',\n",
       "       '1.5', '1.2', '5.6', '5.8', '5.2', '9.5', '6.4', '3.0', '3.9',\n",
       "       '3.45', '11.0', '5.5', '1.9', '8.0', '4.2', '6.6', '4.3', '7.2',\n",
       "       '4.6', '7.5', '9.0', '6.8', '2.9', '2.6', '1.19', '1.09', '6.2',\n",
       "       '2.7', '5.7', '5.1', '8.9', '6.7', '4.75', '6.9', '11.5', '5.3',\n",
       "       '8.8', '13.0', '5.55', '6.3', '1.4', '3.95', '1.8', '1.65', '8.7',\n",
       "       '8.3', '1.0', '2.2', '3.1', '7.4', '2.99', '13.5', '6.1', '16.0',\n",
       "       '2.3', '9.2', '2.0', '7.8', '12.0', '7.9', '9.8', '1.95', '1.6',\n",
       "       '10.5', '15.0', '4.95', '9.3', '1.32', '14.0', '1.7', '9.4',\n",
       "       '10.9', '2.4', '11.3', '8.4', '2.1', '1.39', '4.45', '1.75',\n",
       "       '1.35', '2.45', '8.6', '1.3', '9.9', '1.1', '3.55', '28.0', '8.49',\n",
       "       '650.0', '12.2', '900.0', '1.15', '1.78', '18.0', '4.99', '999.0',\n",
       "       '3.19', '800.0', '1.55', '4.79', '8.2', '1.99', '3.85'],\n",
       "      dtype=object)"
      ]
     },
     "execution_count": 13,
     "metadata": {},
     "output_type": "execute_result"
    }
   ],
   "source": [
    "#Test\n",
    "raw_df['Mức giá'].unique()"
   ]
  },
  {
   "cell_type": "markdown",
   "id": "a0c57bd6-bc97-4921-a104-eaccad3fa263",
   "metadata": {},
   "source": [
    "## 3.4 Chuẩn hóa dữ liệu \n",
    "<a id=\"normalize\"></a>\n",
    "###### [(Về trang đầu)](#content)"
   ]
  },
  {
   "cell_type": "markdown",
   "id": "5ab5c1e4",
   "metadata": {},
   "source": [
    "Ở đây nhóm sẽ chuẩn hoá hai cột dữ liệu `Địa chỉ` và `Nội thất` để dễ dàng nhận xét"
   ]
  },
  {
   "cell_type": "code",
   "execution_count": 14,
   "id": "90261464-244b-4222-ac7c-591d75001da9",
   "metadata": {},
   "outputs": [
    {
     "data": {
      "text/html": [
       "<div>\n",
       "<style scoped>\n",
       "    .dataframe tbody tr th:only-of-type {\n",
       "        vertical-align: middle;\n",
       "    }\n",
       "\n",
       "    .dataframe tbody tr th {\n",
       "        vertical-align: top;\n",
       "    }\n",
       "\n",
       "    .dataframe thead th {\n",
       "        text-align: right;\n",
       "    }\n",
       "</style>\n",
       "<table border=\"1\" class=\"dataframe\">\n",
       "  <thead>\n",
       "    <tr style=\"text-align: right;\">\n",
       "      <th></th>\n",
       "      <th>Địa chỉ</th>\n",
       "      <th>Nội thất</th>\n",
       "    </tr>\n",
       "  </thead>\n",
       "  <tbody>\n",
       "    <tr>\n",
       "      <th>0</th>\n",
       "      <td>Đường Cù Chính Lan, Phường 13, Tân Bình, Hồ Ch...</td>\n",
       "      <td>Đầy đủ.</td>\n",
       "    </tr>\n",
       "    <tr>\n",
       "      <th>1</th>\n",
       "      <td>Đường Ngô Bệ, Phường 13, Tân Bình, Hồ Chí Minh</td>\n",
       "      <td>Không</td>\n",
       "    </tr>\n",
       "    <tr>\n",
       "      <th>2</th>\n",
       "      <td>Đường Nam Kỳ Khởi Nghĩa, Phường Võ Thị Sáu, Qu...</td>\n",
       "      <td>Không</td>\n",
       "    </tr>\n",
       "    <tr>\n",
       "      <th>3</th>\n",
       "      <td>Đường Lê Văn Thịnh, Phường Bình Trưng Tây, Quậ...</td>\n",
       "      <td>Đầy đủ</td>\n",
       "    </tr>\n",
       "    <tr>\n",
       "      <th>4</th>\n",
       "      <td>Đường Hiệp Bình, Phường Hiệp Bình Phước, Thủ Đ...</td>\n",
       "      <td>Không nội thất</td>\n",
       "    </tr>\n",
       "    <tr>\n",
       "      <th>...</th>\n",
       "      <td>...</td>\n",
       "      <td>...</td>\n",
       "    </tr>\n",
       "    <tr>\n",
       "      <th>4809</th>\n",
       "      <td>Đường Thạnh Xuân 48, Phường Thạnh Xuân, Quận 1...</td>\n",
       "      <td>Không</td>\n",
       "    </tr>\n",
       "    <tr>\n",
       "      <th>4810</th>\n",
       "      <td>Đường Đông Hưng Thuận 5, Phường Đông Hưng Thuậ...</td>\n",
       "      <td>Không</td>\n",
       "    </tr>\n",
       "    <tr>\n",
       "      <th>4811</th>\n",
       "      <td>Đường Trần Hữu Trang, Phường 11, Phú Nhuận, Hồ...</td>\n",
       "      <td>Đầy đủ</td>\n",
       "    </tr>\n",
       "    <tr>\n",
       "      <th>4812</th>\n",
       "      <td>Đường 339, Phường Phước Long B, Thủ Đức, Hồ Ch...</td>\n",
       "      <td>Đầy đủ</td>\n",
       "    </tr>\n",
       "    <tr>\n",
       "      <th>4813</th>\n",
       "      <td>Đường Lê Quang Định, Phường 7, Bình Thạnh, Hồ ...</td>\n",
       "      <td>Đầy đủ</td>\n",
       "    </tr>\n",
       "  </tbody>\n",
       "</table>\n",
       "<p>4814 rows × 2 columns</p>\n",
       "</div>"
      ],
      "text/plain": [
       "                                                Địa chỉ        Nội thất\n",
       "0     Đường Cù Chính Lan, Phường 13, Tân Bình, Hồ Ch...         Đầy đủ.\n",
       "1        Đường Ngô Bệ, Phường 13, Tân Bình, Hồ Chí Minh           Không\n",
       "2     Đường Nam Kỳ Khởi Nghĩa, Phường Võ Thị Sáu, Qu...           Không\n",
       "3     Đường Lê Văn Thịnh, Phường Bình Trưng Tây, Quậ...          Đầy đủ\n",
       "4     Đường Hiệp Bình, Phường Hiệp Bình Phước, Thủ Đ...  Không nội thất\n",
       "...                                                 ...             ...\n",
       "4809  Đường Thạnh Xuân 48, Phường Thạnh Xuân, Quận 1...           Không\n",
       "4810  Đường Đông Hưng Thuận 5, Phường Đông Hưng Thuậ...           Không\n",
       "4811  Đường Trần Hữu Trang, Phường 11, Phú Nhuận, Hồ...          Đầy đủ\n",
       "4812  Đường 339, Phường Phước Long B, Thủ Đức, Hồ Ch...          Đầy đủ\n",
       "4813  Đường Lê Quang Định, Phường 7, Bình Thạnh, Hồ ...          Đầy đủ\n",
       "\n",
       "[4814 rows x 2 columns]"
      ]
     },
     "execution_count": 14,
     "metadata": {},
     "output_type": "execute_result"
    }
   ],
   "source": [
    "raw_df[['Địa chỉ', 'Nội thất']]"
   ]
  },
  {
   "cell_type": "code",
   "execution_count": 15,
   "id": "a5d58822-616b-4c3c-837a-00f1a8cd4f97",
   "metadata": {},
   "outputs": [],
   "source": [
    "#chuyển địa chỉ thành số\n",
    "def district_to_number(address, districts):\n",
    "    for district, value in districts.items():\n",
    "        district += ','\n",
    "        if district in address:\n",
    "            return value\n",
    "    return 0\n",
    "\n",
    "districts = pd.read_csv('./Data/address.txt', sep=':', header=None)\n",
    "districts = districts.set_index(0)[1].to_dict()\n",
    "\n",
    "raw_df['Địa chỉ'] = raw_df['Địa chỉ'].apply(lambda x: district_to_number(x, districts))"
   ]
  },
  {
   "cell_type": "code",
   "execution_count": 16,
   "id": "44f952e0-9a39-4404-8009-3f608c9ba1e8",
   "metadata": {},
   "outputs": [],
   "source": [
    "#chuyển nội thất thành số\n",
    "def furniture_to_number(furniture, dict_furniture):\n",
    "    for fur, value in dict_furniture.items():\n",
    "        if fur.lower() in furniture.lower():\n",
    "            return value\n",
    "    return 2\n",
    "\n",
    "dict_furniture = pd.read_csv('./Data/furniture.txt', sep=':', header=None).set_index(0)[1].to_dict()\n",
    "\n",
    "raw_df['Nội thất'] = raw_df['Nội thất'].apply(lambda x: furniture_to_number(x, dict_furniture))"
   ]
  },
  {
   "cell_type": "markdown",
   "id": "ba168922-f346-4c53-9d5a-9c9d73112325",
   "metadata": {},
   "source": [
    "#### Xử lý các dòng không có địa chỉ"
   ]
  },
  {
   "cell_type": "code",
   "execution_count": 17,
   "id": "cc41692a-aae6-43d5-a2a0-09a016d20f03",
   "metadata": {},
   "outputs": [],
   "source": [
    "raw_df = raw_df[raw_df['Địa chỉ'] != 0]"
   ]
  },
  {
   "cell_type": "code",
   "execution_count": 18,
   "id": "9cc23f8d-f384-49b6-848f-8b3dd5f51e1b",
   "metadata": {},
   "outputs": [
    {
     "data": {
      "text/html": [
       "<div>\n",
       "<style scoped>\n",
       "    .dataframe tbody tr th:only-of-type {\n",
       "        vertical-align: middle;\n",
       "    }\n",
       "\n",
       "    .dataframe tbody tr th {\n",
       "        vertical-align: top;\n",
       "    }\n",
       "\n",
       "    .dataframe thead th {\n",
       "        text-align: right;\n",
       "    }\n",
       "</style>\n",
       "<table border=\"1\" class=\"dataframe\">\n",
       "  <thead>\n",
       "    <tr style=\"text-align: right;\">\n",
       "      <th></th>\n",
       "      <th>Địa chỉ</th>\n",
       "      <th>Nội thất</th>\n",
       "    </tr>\n",
       "  </thead>\n",
       "  <tbody>\n",
       "    <tr>\n",
       "      <th>0</th>\n",
       "      <td>16</td>\n",
       "      <td>2</td>\n",
       "    </tr>\n",
       "    <tr>\n",
       "      <th>1</th>\n",
       "      <td>16</td>\n",
       "      <td>0</td>\n",
       "    </tr>\n",
       "    <tr>\n",
       "      <th>2</th>\n",
       "      <td>3</td>\n",
       "      <td>0</td>\n",
       "    </tr>\n",
       "    <tr>\n",
       "      <th>3</th>\n",
       "      <td>2</td>\n",
       "      <td>2</td>\n",
       "    </tr>\n",
       "    <tr>\n",
       "      <th>4</th>\n",
       "      <td>19</td>\n",
       "      <td>0</td>\n",
       "    </tr>\n",
       "    <tr>\n",
       "      <th>...</th>\n",
       "      <td>...</td>\n",
       "      <td>...</td>\n",
       "    </tr>\n",
       "    <tr>\n",
       "      <th>4809</th>\n",
       "      <td>12</td>\n",
       "      <td>0</td>\n",
       "    </tr>\n",
       "    <tr>\n",
       "      <th>4810</th>\n",
       "      <td>12</td>\n",
       "      <td>0</td>\n",
       "    </tr>\n",
       "    <tr>\n",
       "      <th>4811</th>\n",
       "      <td>15</td>\n",
       "      <td>2</td>\n",
       "    </tr>\n",
       "    <tr>\n",
       "      <th>4812</th>\n",
       "      <td>19</td>\n",
       "      <td>2</td>\n",
       "    </tr>\n",
       "    <tr>\n",
       "      <th>4813</th>\n",
       "      <td>13</td>\n",
       "      <td>2</td>\n",
       "    </tr>\n",
       "  </tbody>\n",
       "</table>\n",
       "<p>4810 rows × 2 columns</p>\n",
       "</div>"
      ],
      "text/plain": [
       "      Địa chỉ  Nội thất\n",
       "0          16         2\n",
       "1          16         0\n",
       "2           3         0\n",
       "3           2         2\n",
       "4          19         0\n",
       "...       ...       ...\n",
       "4809       12         0\n",
       "4810       12         0\n",
       "4811       15         2\n",
       "4812       19         2\n",
       "4813       13         2\n",
       "\n",
       "[4810 rows x 2 columns]"
      ]
     },
     "execution_count": 18,
     "metadata": {},
     "output_type": "execute_result"
    }
   ],
   "source": [
    "#Test\n",
    "raw_df[['Địa chỉ', 'Nội thất']]"
   ]
  },
  {
   "cell_type": "markdown",
   "id": "3b80fa5d-d0b3-4e83-88c1-673f9062d8a4",
   "metadata": {},
   "source": [
    "## 3.5 Xóa cột không có ý nghĩa <a id=\"delete\"></a>\n",
    "###### [(Về trang đầu)](#content)"
   ]
  },
  {
   "cell_type": "markdown",
   "id": "8aa0df75-88e7-4554-8acd-00e65e15665c",
   "metadata": {},
   "source": [
    "- Ở đây, nhóm nhận thấy thuộc tính `Link` và `ID` không có ý nghĩa nhiều trong việc phân tích nên nhóm sẽ xóa 2 thuộc tính này"
   ]
  },
  {
   "cell_type": "code",
   "execution_count": 19,
   "id": "240ba3bb-4a58-46a8-8a0e-ac8fb7aae7d4",
   "metadata": {},
   "outputs": [],
   "source": [
    "raw_df = raw_df.drop(['ID','Link'], axis=1)\n",
    "\n",
    "#Loại bỏ dòng trùng lắp sau khi xóa cột\n",
    "raw_df.drop_duplicates(inplace=True)"
   ]
  },
  {
   "cell_type": "code",
   "execution_count": 20,
   "id": "1aeda74a-c3d1-4888-908a-19238b3abce7",
   "metadata": {},
   "outputs": [
    {
     "data": {
      "text/html": [
       "<div>\n",
       "<style scoped>\n",
       "    .dataframe tbody tr th:only-of-type {\n",
       "        vertical-align: middle;\n",
       "    }\n",
       "\n",
       "    .dataframe tbody tr th {\n",
       "        vertical-align: top;\n",
       "    }\n",
       "\n",
       "    .dataframe thead th {\n",
       "        text-align: right;\n",
       "    }\n",
       "</style>\n",
       "<table border=\"1\" class=\"dataframe\">\n",
       "  <thead>\n",
       "    <tr style=\"text-align: right;\">\n",
       "      <th></th>\n",
       "      <th>Địa chỉ</th>\n",
       "      <th>Diện tích</th>\n",
       "      <th>Số phòng ngủ</th>\n",
       "      <th>Số toilet</th>\n",
       "      <th>Nội thất</th>\n",
       "      <th>Mức giá</th>\n",
       "      <th>Ngày đăng tin</th>\n",
       "    </tr>\n",
       "  </thead>\n",
       "  <tbody>\n",
       "    <tr>\n",
       "      <th>0</th>\n",
       "      <td>16</td>\n",
       "      <td>20.0</td>\n",
       "      <td>1.0</td>\n",
       "      <td>1.0</td>\n",
       "      <td>2</td>\n",
       "      <td>4.0</td>\n",
       "      <td>22/10/2024</td>\n",
       "    </tr>\n",
       "    <tr>\n",
       "      <th>1</th>\n",
       "      <td>16</td>\n",
       "      <td>60.0</td>\n",
       "      <td>2.0</td>\n",
       "      <td>2.0</td>\n",
       "      <td>0</td>\n",
       "      <td>10.0</td>\n",
       "      <td>23/10/2024</td>\n",
       "    </tr>\n",
       "    <tr>\n",
       "      <th>2</th>\n",
       "      <td>3</td>\n",
       "      <td>45.0</td>\n",
       "      <td>1.0</td>\n",
       "      <td>1.0</td>\n",
       "      <td>0</td>\n",
       "      <td>7.3</td>\n",
       "      <td>23/10/2024</td>\n",
       "    </tr>\n",
       "    <tr>\n",
       "      <th>3</th>\n",
       "      <td>2</td>\n",
       "      <td>30.0</td>\n",
       "      <td>1.0</td>\n",
       "      <td>1.0</td>\n",
       "      <td>2</td>\n",
       "      <td>4.1</td>\n",
       "      <td>17/10/2024</td>\n",
       "    </tr>\n",
       "    <tr>\n",
       "      <th>4</th>\n",
       "      <td>19</td>\n",
       "      <td>28.0</td>\n",
       "      <td>1.0</td>\n",
       "      <td>1.0</td>\n",
       "      <td>0</td>\n",
       "      <td>2.8</td>\n",
       "      <td>23/10/2024</td>\n",
       "    </tr>\n",
       "  </tbody>\n",
       "</table>\n",
       "</div>"
      ],
      "text/plain": [
       "   Địa chỉ  Diện tích  Số phòng ngủ  Số toilet  Nội thất Mức giá Ngày đăng tin\n",
       "0       16       20.0           1.0        1.0         2     4.0    22/10/2024\n",
       "1       16       60.0           2.0        2.0         0    10.0    23/10/2024\n",
       "2        3       45.0           1.0        1.0         0     7.3    23/10/2024\n",
       "3        2       30.0           1.0        1.0         2     4.1    17/10/2024\n",
       "4       19       28.0           1.0        1.0         0     2.8    23/10/2024"
      ]
     },
     "execution_count": 20,
     "metadata": {},
     "output_type": "execute_result"
    }
   ],
   "source": [
    "#Test\n",
    "raw_df.head()"
   ]
  },
  {
   "cell_type": "markdown",
   "id": "014ba5e4-b4b3-4d61-9b9f-344fc907fb24",
   "metadata": {},
   "source": [
    "## 3.6 Chỉnh sửa kiểu dữ liệu cho từng cột <a id=\"adjust\"></a>\n",
    "###### [(Về trang đầu)](#content)"
   ]
  },
  {
   "cell_type": "markdown",
   "id": "dd9ce6f4",
   "metadata": {},
   "source": [
    "#### Kiểm tra dữ liệu lúc đầu"
   ]
  },
  {
   "cell_type": "code",
   "execution_count": 21,
   "id": "73dd4c44-f1fc-4c46-a1b2-737dc4203559",
   "metadata": {},
   "outputs": [
    {
     "data": {
      "text/plain": [
       "Địa chỉ            int64\n",
       "Diện tích        float64\n",
       "Số phòng ngủ     float64\n",
       "Số toilet        float64\n",
       "Nội thất           int64\n",
       "Mức giá           object\n",
       "Ngày đăng tin     object\n",
       "dtype: object"
      ]
     },
     "execution_count": 21,
     "metadata": {},
     "output_type": "execute_result"
    }
   ],
   "source": [
    "raw_df.dtypes"
   ]
  },
  {
   "cell_type": "markdown",
   "id": "a2a69c49",
   "metadata": {},
   "source": [
    "#### Ép kiểu dữ liệu"
   ]
  },
  {
   "cell_type": "code",
   "execution_count": 22,
   "id": "ec1a64b9-2ca6-4402-92bd-b90c7bcc4907",
   "metadata": {},
   "outputs": [],
   "source": [
    "raw_df['Mức giá'] = raw_df['Mức giá'].astype(np.float64)\n",
    "raw_df['Ngày đăng tin'] = pd.to_datetime(raw_df['Ngày đăng tin'], format='%d/%m/%Y')\n",
    "raw_df['Địa chỉ'] = raw_df['Địa chỉ'].astype('category')\n",
    "raw_df['Nội thất'] = raw_df['Nội thất'].astype('category')"
   ]
  },
  {
   "cell_type": "code",
   "execution_count": 23,
   "id": "5b6ce2a5-e533-44e5-aa57-3e47ea0b8ac1",
   "metadata": {},
   "outputs": [
    {
     "data": {
      "text/plain": [
       "Địa chỉ                category\n",
       "Diện tích               float64\n",
       "Số phòng ngủ            float64\n",
       "Số toilet               float64\n",
       "Nội thất               category\n",
       "Mức giá                 float64\n",
       "Ngày đăng tin    datetime64[ns]\n",
       "dtype: object"
      ]
     },
     "execution_count": 23,
     "metadata": {},
     "output_type": "execute_result"
    }
   ],
   "source": [
    "#Test\n",
    "raw_df.dtypes"
   ]
  },
  {
   "cell_type": "markdown",
   "id": "38f611a3-e6f6-409f-af78-dd3b584c36d1",
   "metadata": {},
   "source": [
    "## 3.7 Xử lý ngoại lai <a id=\"outlier\"></a>\n",
    "###### [(Về trang đầu)](#content)"
   ]
  },
  {
   "cell_type": "markdown",
   "id": "94bef35a-da12-43da-b197-09227da719c5",
   "metadata": {},
   "source": [
    "### 3.7.1 Các giá trị bất thường về giá"
   ]
  },
  {
   "cell_type": "code",
   "execution_count": 24,
   "id": "424402d9-340e-45d2-bd8c-6fcf844eb2a1",
   "metadata": {},
   "outputs": [
    {
     "data": {
      "text/plain": [
       "<Axes: ylabel='Mức giá'>"
      ]
     },
     "execution_count": 24,
     "metadata": {},
     "output_type": "execute_result"
    },
    {
     "data": {
      "image/png": "[encoded data removed]",
      "text/plain": [
       "<Figure size 640x480 with 1 Axes>"
      ]
     },
     "metadata": {},
     "output_type": "display_data"
    }
   ],
   "source": [
    "sns.boxplot(data=raw_df, y=\"Mức giá\")"
   ]
  },
  {
   "cell_type": "markdown",
   "id": "792b2362-3258-44dd-b470-34076a1eecd9",
   "metadata": {},
   "source": [
    "- Dựa vào biểu đồ, nhóm nhận thấy tồn tại những giá trị trên 600, gây ảnh hưởng nặng đến dữ liệu trong cột thuộc tính `Mức giá`.\n",
    "- Và thật sự trong thực tế, mức giá trên 600 triệu để thuê một căn phòng trọ là hoàn toàn vô lý.\n",
    "\n",
    "*=>* Vì vậy, nhóm quyết định chỉ sẽ giữ lại các giá trị dưới 600."
   ]
  },
  {
   "cell_type": "code",
   "execution_count": 25,
   "id": "ab7ed6c3-60cf-419e-a97b-f957bc6fe57b",
   "metadata": {},
   "outputs": [],
   "source": [
    "raw_df = raw_df[raw_df['Mức giá'] < 600]"
   ]
  },
  {
   "cell_type": "code",
   "execution_count": 26,
   "id": "679f8671-92aa-4ee9-be11-58482328620e",
   "metadata": {},
   "outputs": [
    {
     "data": {
      "text/plain": [
       "<Axes: ylabel='Mức giá'>"
      ]
     },
     "execution_count": 26,
     "metadata": {},
     "output_type": "execute_result"
    },
    {
     "data": {
      "image/png": "[encoded data removed]",
      "text/plain": [
       "<Figure size 640x480 with 1 Axes>"
      ]
     },
     "metadata": {},
     "output_type": "display_data"
    }
   ],
   "source": [
    "#Test\n",
    "sns.boxplot(data=raw_df, y=\"Mức giá\")"
   ]
  },
  {
   "cell_type": "markdown",
   "id": "08f363f2-09f8-421d-a842-d36bc76e0a2c",
   "metadata": {},
   "source": [
    "### 3.7.2 Các giá trị bất thường về số phòng ngủ"
   ]
  },
  {
   "cell_type": "markdown",
   "id": "50b9781d-7db3-4b05-b938-f3df78d461e9",
   "metadata": {},
   "source": [
    "- Nhóm nhận thấy có một số phòng trọ có 3 phòng ngủ mà mức giá thấp hơn 5 triệu. Điều này là sai lệch dữ liệu, vì nhóm đã kiểm tra và đa số các căn như vậy là nhà nguyên căn và số toilet và số phòng là của cả căn trong khi giá thuê là của 1 phòng."
   ]
  },
  {
   "cell_type": "code",
   "execution_count": 27,
   "id": "caa0d8da-656c-4993-a439-3adbc1bf147a",
   "metadata": {},
   "outputs": [
    {
     "data": {
      "text/html": [
       "<div>\n",
       "<style scoped>\n",
       "    .dataframe tbody tr th:only-of-type {\n",
       "        vertical-align: middle;\n",
       "    }\n",
       "\n",
       "    .dataframe tbody tr th {\n",
       "        vertical-align: top;\n",
       "    }\n",
       "\n",
       "    .dataframe thead th {\n",
       "        text-align: right;\n",
       "    }\n",
       "</style>\n",
       "<table border=\"1\" class=\"dataframe\">\n",
       "  <thead>\n",
       "    <tr style=\"text-align: right;\">\n",
       "      <th></th>\n",
       "      <th>Địa chỉ</th>\n",
       "      <th>Diện tích</th>\n",
       "      <th>Số phòng ngủ</th>\n",
       "      <th>Số toilet</th>\n",
       "      <th>Nội thất</th>\n",
       "      <th>Mức giá</th>\n",
       "      <th>Ngày đăng tin</th>\n",
       "    </tr>\n",
       "  </thead>\n",
       "  <tbody>\n",
       "    <tr>\n",
       "      <th>8</th>\n",
       "      <td>16</td>\n",
       "      <td>24.0</td>\n",
       "      <td>5.0</td>\n",
       "      <td>1.0</td>\n",
       "      <td>0</td>\n",
       "      <td>4.50</td>\n",
       "      <td>2024-10-23</td>\n",
       "    </tr>\n",
       "    <tr>\n",
       "      <th>84</th>\n",
       "      <td>7</td>\n",
       "      <td>25.0</td>\n",
       "      <td>3.0</td>\n",
       "      <td>4.0</td>\n",
       "      <td>0</td>\n",
       "      <td>3.50</td>\n",
       "      <td>2024-10-20</td>\n",
       "    </tr>\n",
       "    <tr>\n",
       "      <th>129</th>\n",
       "      <td>9</td>\n",
       "      <td>100.0</td>\n",
       "      <td>4.0</td>\n",
       "      <td>4.0</td>\n",
       "      <td>2</td>\n",
       "      <td>1.19</td>\n",
       "      <td>2024-10-02</td>\n",
       "    </tr>\n",
       "    <tr>\n",
       "      <th>401</th>\n",
       "      <td>18</td>\n",
       "      <td>30.0</td>\n",
       "      <td>3.0</td>\n",
       "      <td>3.0</td>\n",
       "      <td>0</td>\n",
       "      <td>1.80</td>\n",
       "      <td>2024-10-16</td>\n",
       "    </tr>\n",
       "    <tr>\n",
       "      <th>655</th>\n",
       "      <td>7</td>\n",
       "      <td>14.0</td>\n",
       "      <td>4.0</td>\n",
       "      <td>2.0</td>\n",
       "      <td>2</td>\n",
       "      <td>4.00</td>\n",
       "      <td>2024-10-22</td>\n",
       "    </tr>\n",
       "    <tr>\n",
       "      <th>1067</th>\n",
       "      <td>7</td>\n",
       "      <td>15.0</td>\n",
       "      <td>3.0</td>\n",
       "      <td>3.0</td>\n",
       "      <td>2</td>\n",
       "      <td>1.60</td>\n",
       "      <td>2024-09-27</td>\n",
       "    </tr>\n",
       "    <tr>\n",
       "      <th>2262</th>\n",
       "      <td>19</td>\n",
       "      <td>30.0</td>\n",
       "      <td>3.0</td>\n",
       "      <td>1.0</td>\n",
       "      <td>2</td>\n",
       "      <td>3.70</td>\n",
       "      <td>2024-10-10</td>\n",
       "    </tr>\n",
       "    <tr>\n",
       "      <th>2941</th>\n",
       "      <td>1</td>\n",
       "      <td>31.0</td>\n",
       "      <td>6.0</td>\n",
       "      <td>6.0</td>\n",
       "      <td>2</td>\n",
       "      <td>1.60</td>\n",
       "      <td>2024-10-15</td>\n",
       "    </tr>\n",
       "    <tr>\n",
       "      <th>3089</th>\n",
       "      <td>19</td>\n",
       "      <td>13.0</td>\n",
       "      <td>3.0</td>\n",
       "      <td>2.0</td>\n",
       "      <td>2</td>\n",
       "      <td>4.70</td>\n",
       "      <td>2024-11-28</td>\n",
       "    </tr>\n",
       "    <tr>\n",
       "      <th>3428</th>\n",
       "      <td>1</td>\n",
       "      <td>31.0</td>\n",
       "      <td>6.0</td>\n",
       "      <td>6.0</td>\n",
       "      <td>2</td>\n",
       "      <td>1.60</td>\n",
       "      <td>2024-12-02</td>\n",
       "    </tr>\n",
       "    <tr>\n",
       "      <th>3545</th>\n",
       "      <td>19</td>\n",
       "      <td>40.0</td>\n",
       "      <td>4.0</td>\n",
       "      <td>5.0</td>\n",
       "      <td>0</td>\n",
       "      <td>4.00</td>\n",
       "      <td>2024-11-25</td>\n",
       "    </tr>\n",
       "    <tr>\n",
       "      <th>3724</th>\n",
       "      <td>12</td>\n",
       "      <td>16.0</td>\n",
       "      <td>3.0</td>\n",
       "      <td>2.0</td>\n",
       "      <td>1</td>\n",
       "      <td>2.30</td>\n",
       "      <td>2024-11-30</td>\n",
       "    </tr>\n",
       "    <tr>\n",
       "      <th>4533</th>\n",
       "      <td>19</td>\n",
       "      <td>30.0</td>\n",
       "      <td>5.0</td>\n",
       "      <td>5.0</td>\n",
       "      <td>2</td>\n",
       "      <td>3.90</td>\n",
       "      <td>2024-11-26</td>\n",
       "    </tr>\n",
       "    <tr>\n",
       "      <th>4780</th>\n",
       "      <td>3</td>\n",
       "      <td>25.0</td>\n",
       "      <td>8.0</td>\n",
       "      <td>5.0</td>\n",
       "      <td>2</td>\n",
       "      <td>3.80</td>\n",
       "      <td>2024-11-24</td>\n",
       "    </tr>\n",
       "  </tbody>\n",
       "</table>\n",
       "</div>"
      ],
      "text/plain": [
       "     Địa chỉ  Diện tích  Số phòng ngủ  Số toilet Nội thất  Mức giá  \\\n",
       "8         16       24.0           5.0        1.0        0     4.50   \n",
       "84         7       25.0           3.0        4.0        0     3.50   \n",
       "129        9      100.0           4.0        4.0        2     1.19   \n",
       "401       18       30.0           3.0        3.0        0     1.80   \n",
       "655        7       14.0           4.0        2.0        2     4.00   \n",
       "1067       7       15.0           3.0        3.0        2     1.60   \n",
       "2262      19       30.0           3.0        1.0        2     3.70   \n",
       "2941       1       31.0           6.0        6.0        2     1.60   \n",
       "3089      19       13.0           3.0        2.0        2     4.70   \n",
       "3428       1       31.0           6.0        6.0        2     1.60   \n",
       "3545      19       40.0           4.0        5.0        0     4.00   \n",
       "3724      12       16.0           3.0        2.0        1     2.30   \n",
       "4533      19       30.0           5.0        5.0        2     3.90   \n",
       "4780       3       25.0           8.0        5.0        2     3.80   \n",
       "\n",
       "     Ngày đăng tin  \n",
       "8       2024-10-23  \n",
       "84      2024-10-20  \n",
       "129     2024-10-02  \n",
       "401     2024-10-16  \n",
       "655     2024-10-22  \n",
       "1067    2024-09-27  \n",
       "2262    2024-10-10  \n",
       "2941    2024-10-15  \n",
       "3089    2024-11-28  \n",
       "3428    2024-12-02  \n",
       "3545    2024-11-25  \n",
       "3724    2024-11-30  \n",
       "4533    2024-11-26  \n",
       "4780    2024-11-24  "
      ]
     },
     "execution_count": 27,
     "metadata": {},
     "output_type": "execute_result"
    }
   ],
   "source": [
    "raw_df[(raw_df['Số phòng ngủ'] >= 3) & (raw_df['Mức giá'] < 5)]"
   ]
  },
  {
   "cell_type": "code",
   "execution_count": 28,
   "id": "6e57c37e-487b-41c1-9246-25b6b1951626",
   "metadata": {},
   "outputs": [],
   "source": [
    "raw_df = raw_df[~((raw_df['Số phòng ngủ'] >= 3) & (raw_df['Mức giá'] < 5))]"
   ]
  },
  {
   "cell_type": "code",
   "execution_count": 29,
   "id": "83dd4b9e-d3f2-44a0-8fc4-c8daa978cf36",
   "metadata": {},
   "outputs": [],
   "source": [
    "#Test\n",
    "assert ((raw_df['Số phòng ngủ'] >= 3) & (raw_df['Mức giá'] < 5)).all() == False"
   ]
  },
  {
   "cell_type": "markdown",
   "id": "5b32e6c5-8c38-42fb-9ceb-c7f32043c818",
   "metadata": {},
   "source": [
    "### 3.7.3 Các giá trị bất thường về số phòng trọ trong một quận"
   ]
  },
  {
   "cell_type": "code",
   "execution_count": 30,
   "id": "d6e54c2a-9222-4405-ab80-cf91eb022c34",
   "metadata": {},
   "outputs": [
    {
     "data": {
      "text/plain": [
       "Quận 1        266\n",
       "Quận 2        454\n",
       "Quận 3        234\n",
       "Quận 4         71\n",
       "Quận 5         96\n",
       "Quận 6         53\n",
       "Quận 7        382\n",
       "Quận 8        165\n",
       "Quận 9        104\n",
       "Quận 10       220\n",
       "Quận 11        40\n",
       "Quận 12       129\n",
       "Bình Thạnh    629\n",
       "Gò Vấp        354\n",
       "Phú Nhuận     242\n",
       "Tân Bình      474\n",
       "Tân Phú       254\n",
       "Bình Tân      160\n",
       "Thủ Đức       154\n",
       "Bình Chánh     71\n",
       "Cần Giờ         2\n",
       "Hóc Môn        12\n",
       "Nhà Bè         36\n",
       "Name: count, dtype: int64"
      ]
     },
     "execution_count": 30,
     "metadata": {},
     "output_type": "execute_result"
    }
   ],
   "source": [
    "count_per_address = raw_df['Địa chỉ'].value_counts().sort_index()\n",
    "count_per_address.index = ['Quận 1', 'Quận 2','Quận 3','Quận 4','Quận 5','Quận 6','Quận 7','Quận 8',\n",
    "                           'Quận 9', 'Quận 10','Quận 11', 'Quận 12','Bình Thạnh','Gò Vấp','Phú Nhuận',\n",
    "                           'Tân Bình','Tân Phú','Bình Tân', 'Thủ Đức','Bình Chánh','Cần Giờ','Hóc Môn','Nhà Bè']\n",
    "count_per_address"
   ]
  },
  {
   "cell_type": "markdown",
   "id": "ff503708-9377-4588-8769-489660e01bed",
   "metadata": {},
   "source": [
    "Xoá các địa chỉ có ít hơn 10 phòng trọ, cụ thể là Cần Giờ để tránh gây sai lệch trong phân tích."
   ]
  },
  {
   "cell_type": "code",
   "execution_count": 31,
   "id": "759d9569-6ea0-4ed1-a3b0-37b804562ecf",
   "metadata": {},
   "outputs": [],
   "source": [
    "raw_df = raw_df[raw_df['Địa chỉ'] != 21]"
   ]
  },
  {
   "cell_type": "code",
   "execution_count": 32,
   "id": "055b400b-d697-4535-ab83-7259806935f9",
   "metadata": {},
   "outputs": [],
   "source": [
    "#Test\n",
    "assert ((raw_df['Địa chỉ'] == 21).all()) == False"
   ]
  },
  {
   "cell_type": "markdown",
   "id": "ca43322a-06fd-4962-95b5-88af6f2bdee7",
   "metadata": {},
   "source": [
    "## 3.8 Lưu dữ liệu đã được xử lý <a id=\"save\"></a>\n",
    "###### [(Về trang đầu)](#content)"
   ]
  },
  {
   "cell_type": "code",
   "execution_count": 33,
   "id": "77f25530-aa38-4d6a-8550-0c7ec10c6d27",
   "metadata": {},
   "outputs": [],
   "source": [
    "#Lưu dữ liệu đã xử lý vào file csv\n",
    "raw_df.to_csv('./Data/DSPhongTro_DaXuLy.csv', encoding='utf-8-sig', header=True, sep='\\t', index=False)"
   ]
  },
  {
   "cell_type": "markdown",
   "id": "1959fcb8-ac76-49cd-adcd-4d726b457eb3",
   "metadata": {},
   "source": [
    "# 4. Khám phá dữ liệu  <a id=\"exploration\"></a>\n",
    "###### [(Về trang đầu)](#content)"
   ]
  },
  {
   "cell_type": "markdown",
   "id": "aa2c4af3-d460-411c-8602-8a15fac55636",
   "metadata": {},
   "source": [
    "## 4.1 Lấy dữ liệu <a id=\"collection\"></a>"
   ]
  },
  {
   "cell_type": "code",
   "execution_count": 34,
   "id": "a94c4335-cfdd-48ec-894e-b5c2b4e70405",
   "metadata": {},
   "outputs": [
    {
     "data": {
      "text/html": [
       "<div>\n",
       "<style scoped>\n",
       "    .dataframe tbody tr th:only-of-type {\n",
       "        vertical-align: middle;\n",
       "    }\n",
       "\n",
       "    .dataframe tbody tr th {\n",
       "        vertical-align: top;\n",
       "    }\n",
       "\n",
       "    .dataframe thead th {\n",
       "        text-align: right;\n",
       "    }\n",
       "</style>\n",
       "<table border=\"1\" class=\"dataframe\">\n",
       "  <thead>\n",
       "    <tr style=\"text-align: right;\">\n",
       "      <th></th>\n",
       "      <th>Địa chỉ</th>\n",
       "      <th>Diện tích</th>\n",
       "      <th>Số phòng ngủ</th>\n",
       "      <th>Số toilet</th>\n",
       "      <th>Nội thất</th>\n",
       "      <th>Mức giá</th>\n",
       "      <th>Ngày đăng tin</th>\n",
       "    </tr>\n",
       "  </thead>\n",
       "  <tbody>\n",
       "    <tr>\n",
       "      <th>0</th>\n",
       "      <td>16</td>\n",
       "      <td>20.0</td>\n",
       "      <td>1.0</td>\n",
       "      <td>1.0</td>\n",
       "      <td>2</td>\n",
       "      <td>4.0</td>\n",
       "      <td>2024-10-22</td>\n",
       "    </tr>\n",
       "    <tr>\n",
       "      <th>1</th>\n",
       "      <td>16</td>\n",
       "      <td>60.0</td>\n",
       "      <td>2.0</td>\n",
       "      <td>2.0</td>\n",
       "      <td>0</td>\n",
       "      <td>10.0</td>\n",
       "      <td>2024-10-23</td>\n",
       "    </tr>\n",
       "    <tr>\n",
       "      <th>2</th>\n",
       "      <td>3</td>\n",
       "      <td>45.0</td>\n",
       "      <td>1.0</td>\n",
       "      <td>1.0</td>\n",
       "      <td>0</td>\n",
       "      <td>7.3</td>\n",
       "      <td>2024-10-23</td>\n",
       "    </tr>\n",
       "    <tr>\n",
       "      <th>3</th>\n",
       "      <td>2</td>\n",
       "      <td>30.0</td>\n",
       "      <td>1.0</td>\n",
       "      <td>1.0</td>\n",
       "      <td>2</td>\n",
       "      <td>4.1</td>\n",
       "      <td>2024-10-17</td>\n",
       "    </tr>\n",
       "    <tr>\n",
       "      <th>4</th>\n",
       "      <td>19</td>\n",
       "      <td>28.0</td>\n",
       "      <td>1.0</td>\n",
       "      <td>1.0</td>\n",
       "      <td>0</td>\n",
       "      <td>2.8</td>\n",
       "      <td>2024-10-23</td>\n",
       "    </tr>\n",
       "  </tbody>\n",
       "</table>\n",
       "</div>"
      ],
      "text/plain": [
       "   Địa chỉ  Diện tích  Số phòng ngủ  Số toilet  Nội thất  Mức giá  \\\n",
       "0       16       20.0           1.0        1.0         2      4.0   \n",
       "1       16       60.0           2.0        2.0         0     10.0   \n",
       "2        3       45.0           1.0        1.0         0      7.3   \n",
       "3        2       30.0           1.0        1.0         2      4.1   \n",
       "4       19       28.0           1.0        1.0         0      2.8   \n",
       "\n",
       "  Ngày đăng tin  \n",
       "0    2024-10-22  \n",
       "1    2024-10-23  \n",
       "2    2024-10-23  \n",
       "3    2024-10-17  \n",
       "4    2024-10-23  "
      ]
     },
     "execution_count": 34,
     "metadata": {},
     "output_type": "execute_result"
    }
   ],
   "source": [
    "df = pd.read_csv('./Data/DSPhongTro_DaXuLy.csv',sep='\\t')\n",
    "df.head()"
   ]
  },
  {
   "cell_type": "markdown",
   "id": "17de5ecb-70aa-409d-bba6-f3c73b5574c5",
   "metadata": {},
   "source": [
    "## 4.2 Cấu trúc tập dữ liệu <a id=\"structure\"></a>\n",
    "###### [(Về trang đầu)](#content)"
   ]
  },
  {
   "cell_type": "code",
   "execution_count": 35,
   "id": "13bf2291-9f49-49fe-a41f-d07ab2a8c901",
   "metadata": {},
   "outputs": [
    {
     "name": "stdout",
     "output_type": "stream",
     "text": [
      "Số dòng:  4600\n",
      "Số cột:  7\n"
     ]
    }
   ],
   "source": [
    "n_rows, n_cols = df.shape\n",
    "print(\"Số dòng: \", n_rows)\n",
    "print(\"Số cột: \", n_cols)"
   ]
  },
  {
   "cell_type": "markdown",
   "id": "ef7a9f4c-bec9-46b0-a8e6-b04915d9c08f",
   "metadata": {},
   "source": [
    "## 4.3 Khám phá các dòng <a id=\"row\"></a>\n",
    "###### [(Về trang đầu)](#content)"
   ]
  },
  {
   "cell_type": "markdown",
   "id": "72352be4-003f-4d1b-910e-412d86b45317",
   "metadata": {},
   "source": [
    "### 4.3.1 Lấy ngẫu nhiên 1 dòng dữ liệu"
   ]
  },
  {
   "cell_type": "code",
   "execution_count": 36,
   "id": "c3e1b024-335b-4d69-874e-e983435a50b5",
   "metadata": {},
   "outputs": [
    {
     "data": {
      "text/html": [
       "<div>\n",
       "<style scoped>\n",
       "    .dataframe tbody tr th:only-of-type {\n",
       "        vertical-align: middle;\n",
       "    }\n",
       "\n",
       "    .dataframe tbody tr th {\n",
       "        vertical-align: top;\n",
       "    }\n",
       "\n",
       "    .dataframe thead th {\n",
       "        text-align: right;\n",
       "    }\n",
       "</style>\n",
       "<table border=\"1\" class=\"dataframe\">\n",
       "  <thead>\n",
       "    <tr style=\"text-align: right;\">\n",
       "      <th></th>\n",
       "      <th>Địa chỉ</th>\n",
       "      <th>Diện tích</th>\n",
       "      <th>Số phòng ngủ</th>\n",
       "      <th>Số toilet</th>\n",
       "      <th>Nội thất</th>\n",
       "      <th>Mức giá</th>\n",
       "      <th>Ngày đăng tin</th>\n",
       "    </tr>\n",
       "  </thead>\n",
       "  <tbody>\n",
       "    <tr>\n",
       "      <th>2643</th>\n",
       "      <td>13</td>\n",
       "      <td>25.0</td>\n",
       "      <td>1.0</td>\n",
       "      <td>1.0</td>\n",
       "      <td>2</td>\n",
       "      <td>5.5</td>\n",
       "      <td>2024-10-07</td>\n",
       "    </tr>\n",
       "  </tbody>\n",
       "</table>\n",
       "</div>"
      ],
      "text/plain": [
       "      Địa chỉ  Diện tích  Số phòng ngủ  Số toilet  Nội thất  Mức giá  \\\n",
       "2643       13       25.0           1.0        1.0         2      5.5   \n",
       "\n",
       "     Ngày đăng tin  \n",
       "2643    2024-10-07  "
      ]
     },
     "execution_count": 36,
     "metadata": {},
     "output_type": "execute_result"
    }
   ],
   "source": [
    "df.sample()"
   ]
  },
  {
   "cell_type": "markdown",
   "id": "a57bc4a2-3143-4562-a61e-54febf36d4c9",
   "metadata": {},
   "source": [
    "### 4.3.2 Ý nghĩa của từng dòng dữ liệu"
   ]
  },
  {
   "cell_type": "markdown",
   "id": "31f9252d-f115-4bde-96e1-0932e7f400c7",
   "metadata": {},
   "source": [
    "Mỗi dòng trong tập dữ liệu cung cấp thông tin chi tiết của từng phòng trọ cho thuê được đăng bài vào tháng 9, 10, 11 và 12/2024 trên trang web và tập trung chủ yếu vào tháng 10 và tháng 11. Mỗi dòng có ý nghĩa rất quan trọng trong việc thực hiện phân tích giá phòng trọ và dự đoán xu hướng giá cả trong tương lai của nhóm."
   ]
  },
  {
   "cell_type": "markdown",
   "id": "e2346525-e152-4b55-9414-bfdba44e9875",
   "metadata": {},
   "source": [
    "### 4.3.3 Có dòng nào bị trùng lắp dữ liệu không?"
   ]
  },
  {
   "cell_type": "code",
   "execution_count": 37,
   "id": "56feec22-31b1-4153-9830-bf077e2cb8b8",
   "metadata": {},
   "outputs": [],
   "source": [
    "have_duplicated_rows = df.duplicated().any()"
   ]
  },
  {
   "cell_type": "code",
   "execution_count": 38,
   "id": "a050e18c-ed45-40f9-a302-1dd80ea87f4a",
   "metadata": {},
   "outputs": [
    {
     "name": "stdout",
     "output_type": "stream",
     "text": [
      "Không có dòng dữ liệu nào bị trùng lắp cả\n"
     ]
    }
   ],
   "source": [
    "if have_duplicated_rows:\n",
    "    print(\"Dữ liệu tồn tại dòng bị trùng lắp cần tiền xử lý lại\")\n",
    "else:\n",
    "    print(\"Không có dòng dữ liệu nào bị trùng lắp cả\")"
   ]
  },
  {
   "cell_type": "markdown",
   "id": "9de58c1b-6e43-4584-a7ff-0253f95d93cc",
   "metadata": {},
   "source": [
    "## 4.4 Khám phá các cột <a id=\"column\"></a>\n",
    "###### [(Về trang đầu)](#content)"
   ]
  },
  {
   "cell_type": "markdown",
   "id": "d6de4c00-a840-4ad6-9c89-dbe029da060c",
   "metadata": {},
   "source": [
    "### 4.4.1 Các cột dữ liệu"
   ]
  },
  {
   "cell_type": "code",
   "execution_count": 39,
   "id": "5cd9339f-3049-465b-ad99-80df43bfee8e",
   "metadata": {},
   "outputs": [
    {
     "data": {
      "text/plain": [
       "Index(['Địa chỉ', 'Diện tích', 'Số phòng ngủ', 'Số toilet', 'Nội thất',\n",
       "       'Mức giá', 'Ngày đăng tin'],\n",
       "      dtype='object')"
      ]
     },
     "execution_count": 39,
     "metadata": {},
     "output_type": "execute_result"
    }
   ],
   "source": [
    "df.columns"
   ]
  },
  {
   "cell_type": "markdown",
   "id": "d6a96eb5-1dcd-4906-81d2-f5d6b743b5aa",
   "metadata": {},
   "source": [
    "### 4.4.2 Ý nghĩa của mỗi cột dữ liệu"
   ]
  },
  {
   "cell_type": "markdown",
   "id": "566d6785-e8c0-4591-a578-e8e30204d62d",
   "metadata": {},
   "source": [
    "#### Ý nghĩa"
   ]
  },
  {
   "cell_type": "markdown",
   "id": "493c675b-58ee-4ea2-b44a-6a40156682aa",
   "metadata": {},
   "source": [
    "- `Địa chỉ`: Vị trí quận nơi căn phòng được cho thuê (mã hóa số).\n",
    "- `Diện tích`: Kích thước phòng (m²).\n",
    "- `Số phòng ngủ`: Phòng trọ có bao nhiêu phòng ngủ.\n",
    "- `Số toilet`: Phòng trọ có bao nhiêu phòng vệ sinh.\n",
    "- `Nội thất`: Tình trạng nội thất trong phòng (không có, cơ bản, đầy đủ, cao cấp).\n",
    "- `Mức giá`: Giá thuê phòng trọ theo triệu đồng/tháng.\n",
    "- `Ngày đăng tin`: Ngày bài đăng xuất hiện, cung cấp thông tin về thời gian đăng tải."
   ]
  },
  {
   "cell_type": "markdown",
   "id": "ee192758-4118-4972-9eb0-0b175644b2ad",
   "metadata": {},
   "source": [
    "#### Bảng phân loại"
   ]
  },
  {
   "cell_type": "markdown",
   "id": "96450351-2eae-43dc-b989-7eaacae7271f",
   "metadata": {},
   "source": [
    "| **Thuộc tính**        | **Giá trị số/Giá trị phân loại** | **Liên tục/Rời rạc** | **Thứ tự/Không có thứ tự** |\n",
    "|-----------------------|----------------------------------|----------------------|----------------------------|\n",
    "| **Địa chỉ**          | Giá trị phân loại               | Rời rạc             | Không có thứ tự           |\n",
    "| **Diện tích**        | Giá trị số                      | Liên tục            | Không có thứ tự           |\n",
    "| **Số phòng ngủ**     | Giá trị số                      | Rời rạc             | Có thứ tự                 |\n",
    "| **Số toilet**        | Giá trị số                      | Rời rạc             | Có thứ tự                 |\n",
    "| **Nội thất**         | Giá trị phân loại               | Rời rạc             | Có thứ tự                 |\n",
    "| **Mức giá**          | Giá trị số                      | Liên tục            | Không có thứ tự           |\n",
    "| **Ngày đăng tin**    | Giá trị phân loại               | Rời rạc             | Không có thứ tự           |\n"
   ]
  },
  {
   "cell_type": "markdown",
   "id": "8b0dd7b7-3bb9-40ed-88cd-93be301cdc36",
   "metadata": {},
   "source": [
    "### 4.4.3 Kiểu dữ liệu hiện tại của từng cột"
   ]
  },
  {
   "cell_type": "code",
   "execution_count": 40,
   "id": "83bcc581-2a16-4394-b9f2-a99fa5becc6d",
   "metadata": {},
   "outputs": [
    {
     "data": {
      "text/plain": [
       "Địa chỉ            int64\n",
       "Diện tích        float64\n",
       "Số phòng ngủ     float64\n",
       "Số toilet        float64\n",
       "Nội thất           int64\n",
       "Mức giá          float64\n",
       "Ngày đăng tin     object\n",
       "dtype: object"
      ]
     },
     "execution_count": 40,
     "metadata": {},
     "output_type": "execute_result"
    }
   ],
   "source": [
    "df.dtypes"
   ]
  },
  {
   "cell_type": "markdown",
   "id": "761b3c84-9cbd-473e-82a7-5721bfee85bd",
   "metadata": {},
   "source": [
    "### 4.4.4 Ý nghĩa của một số cột dữ liệu đã mã hóa"
   ]
  },
  {
   "cell_type": "markdown",
   "id": "7d12b7e1-f1f4-418f-a222-5d58caf60b3a",
   "metadata": {},
   "source": [
    "#### Địa chỉ"
   ]
  },
  {
   "cell_type": "code",
   "execution_count": 41,
   "id": "b6ce9044-ab79-4a61-946c-a8064e35550e",
   "metadata": {},
   "outputs": [
    {
     "data": {
      "text/html": [
       "<div>\n",
       "<style scoped>\n",
       "    .dataframe tbody tr th:only-of-type {\n",
       "        vertical-align: middle;\n",
       "    }\n",
       "\n",
       "    .dataframe tbody tr th {\n",
       "        vertical-align: top;\n",
       "    }\n",
       "\n",
       "    .dataframe thead th {\n",
       "        text-align: right;\n",
       "    }\n",
       "</style>\n",
       "<table border=\"1\" class=\"dataframe\">\n",
       "  <thead>\n",
       "    <tr style=\"text-align: right;\">\n",
       "      <th></th>\n",
       "      <th>Địa chỉ</th>\n",
       "      <th>Mã</th>\n",
       "    </tr>\n",
       "  </thead>\n",
       "  <tbody>\n",
       "    <tr>\n",
       "      <th>0</th>\n",
       "      <td>Quận 1</td>\n",
       "      <td>1</td>\n",
       "    </tr>\n",
       "    <tr>\n",
       "      <th>1</th>\n",
       "      <td>Quận 2</td>\n",
       "      <td>2</td>\n",
       "    </tr>\n",
       "    <tr>\n",
       "      <th>2</th>\n",
       "      <td>Quận 3</td>\n",
       "      <td>3</td>\n",
       "    </tr>\n",
       "    <tr>\n",
       "      <th>3</th>\n",
       "      <td>Quận 4</td>\n",
       "      <td>4</td>\n",
       "    </tr>\n",
       "    <tr>\n",
       "      <th>4</th>\n",
       "      <td>Quận 5</td>\n",
       "      <td>5</td>\n",
       "    </tr>\n",
       "    <tr>\n",
       "      <th>5</th>\n",
       "      <td>Quận 6</td>\n",
       "      <td>6</td>\n",
       "    </tr>\n",
       "    <tr>\n",
       "      <th>6</th>\n",
       "      <td>Quận 7</td>\n",
       "      <td>7</td>\n",
       "    </tr>\n",
       "    <tr>\n",
       "      <th>7</th>\n",
       "      <td>Quận 8</td>\n",
       "      <td>8</td>\n",
       "    </tr>\n",
       "    <tr>\n",
       "      <th>8</th>\n",
       "      <td>Quận 9</td>\n",
       "      <td>9</td>\n",
       "    </tr>\n",
       "    <tr>\n",
       "      <th>9</th>\n",
       "      <td>Quận 10</td>\n",
       "      <td>10</td>\n",
       "    </tr>\n",
       "    <tr>\n",
       "      <th>10</th>\n",
       "      <td>Quận 11</td>\n",
       "      <td>11</td>\n",
       "    </tr>\n",
       "    <tr>\n",
       "      <th>11</th>\n",
       "      <td>Quận 12</td>\n",
       "      <td>12</td>\n",
       "    </tr>\n",
       "    <tr>\n",
       "      <th>12</th>\n",
       "      <td>Bình Thạnh</td>\n",
       "      <td>13</td>\n",
       "    </tr>\n",
       "    <tr>\n",
       "      <th>13</th>\n",
       "      <td>Gò Vấp</td>\n",
       "      <td>14</td>\n",
       "    </tr>\n",
       "    <tr>\n",
       "      <th>14</th>\n",
       "      <td>Phú Nhuận</td>\n",
       "      <td>15</td>\n",
       "    </tr>\n",
       "    <tr>\n",
       "      <th>15</th>\n",
       "      <td>Tân Bình</td>\n",
       "      <td>16</td>\n",
       "    </tr>\n",
       "    <tr>\n",
       "      <th>16</th>\n",
       "      <td>Tân Phú</td>\n",
       "      <td>17</td>\n",
       "    </tr>\n",
       "    <tr>\n",
       "      <th>17</th>\n",
       "      <td>Bình Tân</td>\n",
       "      <td>18</td>\n",
       "    </tr>\n",
       "    <tr>\n",
       "      <th>18</th>\n",
       "      <td>Thủ Đức</td>\n",
       "      <td>19</td>\n",
       "    </tr>\n",
       "    <tr>\n",
       "      <th>19</th>\n",
       "      <td>Bình Chánh</td>\n",
       "      <td>20</td>\n",
       "    </tr>\n",
       "    <tr>\n",
       "      <th>20</th>\n",
       "      <td>Cần Giờ</td>\n",
       "      <td>21</td>\n",
       "    </tr>\n",
       "    <tr>\n",
       "      <th>21</th>\n",
       "      <td>Củ Chi</td>\n",
       "      <td>22</td>\n",
       "    </tr>\n",
       "    <tr>\n",
       "      <th>22</th>\n",
       "      <td>Hóc Môn</td>\n",
       "      <td>23</td>\n",
       "    </tr>\n",
       "    <tr>\n",
       "      <th>23</th>\n",
       "      <td>Nhà Bè</td>\n",
       "      <td>24</td>\n",
       "    </tr>\n",
       "  </tbody>\n",
       "</table>\n",
       "</div>"
      ],
      "text/plain": [
       "       Địa chỉ  Mã\n",
       "0       Quận 1   1\n",
       "1       Quận 2   2\n",
       "2       Quận 3   3\n",
       "3       Quận 4   4\n",
       "4       Quận 5   5\n",
       "5       Quận 6   6\n",
       "6       Quận 7   7\n",
       "7       Quận 8   8\n",
       "8       Quận 9   9\n",
       "9      Quận 10  10\n",
       "10     Quận 11  11\n",
       "11     Quận 12  12\n",
       "12  Bình Thạnh  13\n",
       "13      Gò Vấp  14\n",
       "14   Phú Nhuận  15\n",
       "15    Tân Bình  16\n",
       "16     Tân Phú  17\n",
       "17    Bình Tân  18\n",
       "18     Thủ Đức  19\n",
       "19  Bình Chánh  20\n",
       "20     Cần Giờ  21\n",
       "21      Củ Chi  22\n",
       "22     Hóc Môn  23\n",
       "23      Nhà Bè  24"
      ]
     },
     "execution_count": 41,
     "metadata": {},
     "output_type": "execute_result"
    }
   ],
   "source": [
    "info_area = pd.read_csv('./Data/address.txt',header=None,sep=':')\n",
    "info_area.columns= ['Địa chỉ','Mã']\n",
    "info_area"
   ]
  },
  {
   "cell_type": "markdown",
   "id": "b7b79e51-ffb6-489c-95e2-5553e9c4d71c",
   "metadata": {},
   "source": [
    "#### Nội thất"
   ]
  },
  {
   "cell_type": "code",
   "execution_count": 42,
   "id": "8b559ea4-e15f-4e7e-86a0-e9183999d657",
   "metadata": {},
   "outputs": [
    {
     "data": {
      "text/html": [
       "<div>\n",
       "<style scoped>\n",
       "    .dataframe tbody tr th:only-of-type {\n",
       "        vertical-align: middle;\n",
       "    }\n",
       "\n",
       "    .dataframe tbody tr th {\n",
       "        vertical-align: top;\n",
       "    }\n",
       "\n",
       "    .dataframe thead th {\n",
       "        text-align: right;\n",
       "    }\n",
       "</style>\n",
       "<table border=\"1\" class=\"dataframe\">\n",
       "  <thead>\n",
       "    <tr style=\"text-align: right;\">\n",
       "      <th></th>\n",
       "      <th>Nội thất</th>\n",
       "      <th>Mã</th>\n",
       "    </tr>\n",
       "  </thead>\n",
       "  <tbody>\n",
       "    <tr>\n",
       "      <th>0</th>\n",
       "      <td>Không</td>\n",
       "      <td>0</td>\n",
       "    </tr>\n",
       "    <tr>\n",
       "      <th>1</th>\n",
       "      <td>Cơ bản</td>\n",
       "      <td>1</td>\n",
       "    </tr>\n",
       "    <tr>\n",
       "      <th>2</th>\n",
       "      <td>Đầy đủ</td>\n",
       "      <td>2</td>\n",
       "    </tr>\n",
       "    <tr>\n",
       "      <th>3</th>\n",
       "      <td>Cao cấp</td>\n",
       "      <td>3</td>\n",
       "    </tr>\n",
       "  </tbody>\n",
       "</table>\n",
       "</div>"
      ],
      "text/plain": [
       "  Nội thất  Mã\n",
       "0    Không   0\n",
       "1   Cơ bản   1\n",
       "2   Đầy đủ   2\n",
       "3  Cao cấp   3"
      ]
     },
     "execution_count": 42,
     "metadata": {},
     "output_type": "execute_result"
    }
   ],
   "source": [
    "info_furniture = pd.read_csv('./Data/furniture.txt',header=None,sep=':')\n",
    "info_furniture.columns= ['Nội thất','Mã']\n",
    "info_furniture"
   ]
  },
  {
   "cell_type": "markdown",
   "id": "346f6f01-1746-4fec-aaa6-107eb32e9edd",
   "metadata": {},
   "source": [
    "### 4.4.5 Phân bố của các cột dữ liệu số"
   ]
  },
  {
   "cell_type": "markdown",
   "id": "cd8dc6e0-cbc8-4e51-8b91-3593ea253164",
   "metadata": {},
   "source": [
    "Với mỗi cột dữ liệu số ta sẽ tính:\n",
    "\n",
    "- `mising_rato`: tỷ lệ phần trăm (từ 0 đến 100) của giá trị bị thiếu\n",
    "- `min`: giá trị nhỏ nhất\n",
    "- `lower_quartile`: giá trị tứ phân vị thứ nhất (25%)\n",
    "- `median`: giá trị tứ phân vị thứ hai (50%)\n",
    "- `upper_quartile`: giá trị tứ phân vị thứ ba (75%)\n",
    "- `min`: giá trị nhỏ nhất"
   ]
  },
  {
   "cell_type": "code",
   "execution_count": 43,
   "id": "7cca4d86-cbf0-4e60-a409-f2e3d593870e",
   "metadata": {},
   "outputs": [
    {
     "data": {
      "text/html": [
       "<div>\n",
       "<style scoped>\n",
       "    .dataframe tbody tr th:only-of-type {\n",
       "        vertical-align: middle;\n",
       "    }\n",
       "\n",
       "    .dataframe tbody tr th {\n",
       "        vertical-align: top;\n",
       "    }\n",
       "\n",
       "    .dataframe thead th {\n",
       "        text-align: right;\n",
       "    }\n",
       "</style>\n",
       "<table border=\"1\" class=\"dataframe\">\n",
       "  <thead>\n",
       "    <tr style=\"text-align: right;\">\n",
       "      <th></th>\n",
       "      <th>Diện tích</th>\n",
       "      <th>Số phòng ngủ</th>\n",
       "      <th>Số toilet</th>\n",
       "      <th>Mức giá</th>\n",
       "    </tr>\n",
       "  </thead>\n",
       "  <tbody>\n",
       "    <tr>\n",
       "      <th>missing_ratio</th>\n",
       "      <td>0.0</td>\n",
       "      <td>0.0</td>\n",
       "      <td>0.0</td>\n",
       "      <td>0.0</td>\n",
       "    </tr>\n",
       "    <tr>\n",
       "      <th>min</th>\n",
       "      <td>2.0</td>\n",
       "      <td>1.0</td>\n",
       "      <td>1.0</td>\n",
       "      <td>1.0</td>\n",
       "    </tr>\n",
       "    <tr>\n",
       "      <th>lower_quartile</th>\n",
       "      <td>25.0</td>\n",
       "      <td>1.0</td>\n",
       "      <td>1.0</td>\n",
       "      <td>3.9</td>\n",
       "    </tr>\n",
       "    <tr>\n",
       "      <th>median</th>\n",
       "      <td>30.0</td>\n",
       "      <td>1.0</td>\n",
       "      <td>1.0</td>\n",
       "      <td>5.0</td>\n",
       "    </tr>\n",
       "    <tr>\n",
       "      <th>upper_quartile</th>\n",
       "      <td>35.0</td>\n",
       "      <td>1.0</td>\n",
       "      <td>1.0</td>\n",
       "      <td>6.2</td>\n",
       "    </tr>\n",
       "    <tr>\n",
       "      <th>max</th>\n",
       "      <td>100.0</td>\n",
       "      <td>4.0</td>\n",
       "      <td>5.0</td>\n",
       "      <td>28.0</td>\n",
       "    </tr>\n",
       "  </tbody>\n",
       "</table>\n",
       "</div>"
      ],
      "text/plain": [
       "                Diện tích  Số phòng ngủ  Số toilet  Mức giá\n",
       "missing_ratio         0.0           0.0        0.0      0.0\n",
       "min                   2.0           1.0        1.0      1.0\n",
       "lower_quartile       25.0           1.0        1.0      3.9\n",
       "median               30.0           1.0        1.0      5.0\n",
       "upper_quartile       35.0           1.0        1.0      6.2\n",
       "max                 100.0           4.0        5.0     28.0"
      ]
     },
     "execution_count": 43,
     "metadata": {},
     "output_type": "execute_result"
    }
   ],
   "source": [
    "def missing_ratio(col):\n",
    "    return (col.isna().mean()*100).round(1)\n",
    "\n",
    "def lower_quartile(col):\n",
    "    return col.quantile(0.25).round(1)\n",
    "\n",
    "def median(col):\n",
    "    return col.quantile(0.5).round(1)\n",
    "\n",
    "def upper_quartile(col):\n",
    "    return col.quantile(0.75).round(1)\n",
    "\n",
    "#Lấy ra các cột dữ liệu số\n",
    "num_cols = df[['Diện tích','Số phòng ngủ','Số toilet','Mức giá']].copy()\n",
    "\n",
    "#Tính toán các thông sô\n",
    "num_cols_info = num_cols.agg([missing_ratio, \"min\", lower_quartile, median, upper_quartile, \"max\"])\n",
    "\n",
    "num_cols_info"
   ]
  },
  {
   "cell_type": "markdown",
   "id": "1b238ccb-5538-4838-96b0-55c99f38eb00",
   "metadata": {},
   "source": [
    "### 4.4.6 Phân bố của các cột dữ liệu phân loại"
   ]
  },
  {
   "cell_type": "markdown",
   "id": "b75de17e-cbfa-4417-a175-dd8b3c59b32e",
   "metadata": {},
   "source": [
    "Đối với các cột có kiểu dữ liệu không phải số nhóm sẽ tính:\n",
    "\n",
    "- `missing_ratio`: tỷ lệ phần trăm (từ 0 đến 100) giá trị bị thiếu.\n",
    "- `num_values`: số lượng giá trị (các giá trị ở đây là các giá trị khác nhau).\n",
    "- `value_ratios`: tỷ lệ phần trăm (từ 0 đến 100) của mỗi giá trị được sắp xếp theo tỷ lệ phần trăm giảm dần (không xét giá trị thiếu, tỷ lệ là tỷ lệ so với số giá trị không thiếu).\n",
    "\n",
    "**Chú thích:**\n",
    "- Ở giá trị `value_ratios` của thuộc tính `Ngày đăng tin` vì có quá nhiều giá trị nên sẽ quy đổi về dạng `tháng`-`năm` để tính tỉ lệ tránh hiển thị quá nhiều."
   ]
  },
  {
   "cell_type": "code",
   "execution_count": 44,
   "id": "cf0d39dc-bb02-48d4-b896-7980de0d3be3",
   "metadata": {},
   "outputs": [
    {
     "data": {
      "text/html": [
       "<div>\n",
       "<style scoped>\n",
       "    .dataframe tbody tr th:only-of-type {\n",
       "        vertical-align: middle;\n",
       "    }\n",
       "\n",
       "    .dataframe tbody tr th {\n",
       "        vertical-align: top;\n",
       "    }\n",
       "\n",
       "    .dataframe thead th {\n",
       "        text-align: right;\n",
       "    }\n",
       "</style>\n",
       "<table border=\"1\" class=\"dataframe\">\n",
       "  <thead>\n",
       "    <tr style=\"text-align: right;\">\n",
       "      <th></th>\n",
       "      <th>Địa chỉ</th>\n",
       "      <th>Nội thất</th>\n",
       "      <th>Ngày đăng tin</th>\n",
       "    </tr>\n",
       "  </thead>\n",
       "  <tbody>\n",
       "    <tr>\n",
       "      <th>missing_ratio</th>\n",
       "      <td>0.0</td>\n",
       "      <td>0.0</td>\n",
       "      <td>0.0</td>\n",
       "    </tr>\n",
       "    <tr>\n",
       "      <th>num_values</th>\n",
       "      <td>22</td>\n",
       "      <td>4</td>\n",
       "      <td>67</td>\n",
       "    </tr>\n",
       "    <tr>\n",
       "      <th>value_ratios</th>\n",
       "      <td>{13: 13.7, 16: 10.3, 2: 9.9, 7: 8.3, 14: 7.7, 1: 5.8, 17: 5.5, 15: 5.3, 3: 5.1, 10: 4.8, 8: 3.6, 18: 3.5, 19: 3.3, 12: 2.8, 9: 2.3, 5: 2.1, 4: 1.5, 20: 1.5, 6: 1.2, 11: 0.9, 24: 0.8, 23: 0.3}</td>\n",
       "      <td>{2: 63.2, 0: 24.3, 1: 12.1, 3: 0.3}</td>\n",
       "      <td>{'2024-10': 50.9, '2024-11': 26.6, '2024-09': 12.8, '2024-12': 9.7}</td>\n",
       "    </tr>\n",
       "  </tbody>\n",
       "</table>\n",
       "</div>"
      ],
      "text/plain": [
       "                                                                                                                                                                                                       Địa chỉ  \\\n",
       "missing_ratio                                                                                                                                                                                              0.0   \n",
       "num_values                                                                                                                                                                                                  22   \n",
       "value_ratios   {13: 13.7, 16: 10.3, 2: 9.9, 7: 8.3, 14: 7.7, 1: 5.8, 17: 5.5, 15: 5.3, 3: 5.1, 10: 4.8, 8: 3.6, 18: 3.5, 19: 3.3, 12: 2.8, 9: 2.3, 5: 2.1, 4: 1.5, 20: 1.5, 6: 1.2, 11: 0.9, 24: 0.8, 23: 0.3}   \n",
       "\n",
       "                                          Nội thất  \\\n",
       "missing_ratio                                  0.0   \n",
       "num_values                                       4   \n",
       "value_ratios   {2: 63.2, 0: 24.3, 1: 12.1, 3: 0.3}   \n",
       "\n",
       "                                                                     Ngày đăng tin  \n",
       "missing_ratio                                                                  0.0  \n",
       "num_values                                                                      67  \n",
       "value_ratios   {'2024-10': 50.9, '2024-11': 26.6, '2024-09': 12.8, '2024-12': 9.7}  "
      ]
     },
     "execution_count": 44,
     "metadata": {},
     "output_type": "execute_result"
    }
   ],
   "source": [
    "def num_values(col):\n",
    "    return len(col.dropna().unique())\n",
    "\n",
    "def value_ratios(col):\n",
    "    if col.name == 'Ngày đăng tin':\n",
    "        col = col.str[:7]\n",
    "    return col.value_counts(normalize=True).mul(100).round(1).to_dict()\n",
    "    \n",
    "pd.set_option('display.max_colwidth', None)\n",
    "\n",
    "#Lấy ra các cột dữ liệu phân loại\n",
    "cat_cols = df[['Địa chỉ','Nội thất','Ngày đăng tin']].copy()\n",
    "\n",
    "#Tính toán các thông số\n",
    "cat_cols_info = cat_cols.agg([missing_ratio, num_values, value_ratios])\n",
    "\n",
    "cat_cols_info "
   ]
  },
  {
   "cell_type": "markdown",
   "id": "c8da4c77-c0bd-4e19-bf52-7da13a869282",
   "metadata": {},
   "source": [
    "# 5. Trực qua hóa và phân tích <a id=\"visualization\"></a>\n",
    "###### [(Về trang đầu)](#content)"
   ]
  },
  {
   "cell_type": "markdown",
   "id": "66f27c6a-08e7-4e34-852e-1463d8625e6c",
   "metadata": {},
   "source": [
    "## 5.1 Phân bố của các giá trị số rời rạc <a id=\"discrete\"></a>"
   ]
  },
  {
   "cell_type": "code",
   "execution_count": 45,
   "id": "f5f58169-0c0d-4171-a0eb-e40d5cbddee0",
   "metadata": {},
   "outputs": [
    {
     "data": {
      "image/png": "[encoded data removed]",
      "text/plain": [
       "<Figure size 1000x800 with 4 Axes>"
      ]
     },
     "metadata": {},
     "output_type": "display_data"
    }
   ],
   "source": [
    "#Số phòng ngủ, Số toilet\n",
    "num_discrete_cols = ['Số phòng ngủ', 'Số toilet']\n",
    "fig, axes = plt.subplots(2, 2, figsize=(10, 8))\n",
    "\n",
    "for i, col in enumerate(num_discrete_cols):\n",
    "    axes[i, 0].spines[\"bottom\"].set_visible(False)\n",
    "    axes[i, 0].spines[\"left\"].set_visible(False)\n",
    "    axes[i, 0].spines[\"top\"].set_visible(False)\n",
    "    axes[i, 0].spines[\"right\"].set_visible(False)\n",
    "    axes[i, 0].tick_params(left=False, bottom=False)\n",
    "    axes[i, 0].set_xticklabels([])\n",
    "    axes[i, 0].set_yticklabels([])\n",
    "    axes[i, 0].text(0.5, 0.5,\n",
    "                f'Phân bố dữ liệu của \\nthuộc tính {col}\\n _________________',\n",
    "                horizontalalignment='center',\n",
    "                verticalalignment='center',\n",
    "                fontsize=18, fontweight='bold',\n",
    "                fontfamily='serif',\n",
    "                color=\"#000000\")\n",
    "    \n",
    "    count = df[col].value_counts()\n",
    "    wedges, texts = axes[i, 1].pie(count.values, startangle=140)\n",
    "    axes[i, 1].legend(wedges, [f\"{label}\" for label in count.index],\n",
    "                      title=col, loc=\"center left\", bbox_to_anchor=(1, 0.5))\n",
    "\n",
    "plt.tight_layout()\n",
    "plt.show()"
   ]
  },
  {
   "cell_type": "markdown",
   "id": "a7c3045d-ce08-4d90-9acd-1fa1a72de5d1",
   "metadata": {},
   "source": [
    "#### Nhận xét"
   ]
  },
  {
   "cell_type": "markdown",
   "id": "77c34769-8e1b-45dc-8adb-f1fc6d010896",
   "metadata": {},
   "source": [
    "- Đối với phân bố dữ liệu của thuộc tính **Số phòng ngủ**:\n",
    "    - Tần suất lớn nhất là 1 phòng ngủ, chiếm áp đảo so với các giá trị khác.\n",
    "    - Các giá trị khác từ 2 trở đi xuất hiện rất ít.\n",
    "- Đối với phân bố dữ liệu của thuộc tính **Số toilet**:\n",
    "    - Tần suất lớn nhất là 1 toilet, chiếm áp đảo so với các giá trị khác.\n",
    "    - Các giá trị khác từ 2 trở đi xuất hiện rất ít.\n",
    "\n",
    "Điều này cho thấy các phòng trọ có từ 2 phòng ngủ và 2 toilet trở lên là rất hiếm, dữ liệu có sự mất cân đối nghiêm trọng. Cần xem xét lại các thuộc tính này trong việc sử dụng mô hình học máy vì dữ liệu lệch quá nhiều, có thể ảnh hưởng đến kết quả dự đoán."
   ]
  },
  {
   "cell_type": "markdown",
   "id": "e2f1108e-dd57-43dd-88c0-bb131c3a9387",
   "metadata": {},
   "source": [
    "## 5.2 Phân bố các giá trị số liên tục <a id=\"continuous\"></a>\n",
    "###### [(Về trang đầu)](#content)"
   ]
  },
  {
   "cell_type": "code",
   "execution_count": 46,
   "id": "75312929-189e-447d-964b-218203f45a31",
   "metadata": {},
   "outputs": [
    {
     "data": {
      "image/png": "[encoded data removed]",
      "text/plain": [
       "<Figure size 1000x800 with 4 Axes>"
      ]
     },
     "metadata": {},
     "output_type": "display_data"
    }
   ],
   "source": [
    "#Số phòng ngủ, Số toilet\n",
    "num_continous_cols = ['Diện tích', 'Mức giá']\n",
    "label = ['Diện tích (m2)','Mức giá (triệu đồng)']\n",
    "fig, axes = plt.subplots(2, 2, figsize=(10, 8))\n",
    "\n",
    "for i, col in enumerate(num_continous_cols):\n",
    "    axes[i, 0].spines[\"bottom\"].set_visible(False)\n",
    "    axes[i, 0].spines[\"left\"].set_visible(False)\n",
    "    axes[i, 0].spines[\"top\"].set_visible(False)\n",
    "    axes[i, 0].spines[\"right\"].set_visible(False)\n",
    "    axes[i, 0].tick_params(left=False, bottom=False)\n",
    "    axes[i, 0].set_xticklabels([])\n",
    "    axes[i, 0].set_yticklabels([])\n",
    "    axes[i, 0].text(0.5, 0.5,\n",
    "                f'Phân bố dữ liệu của\\n thuộc tính {col}\\n _________________',\n",
    "                horizontalalignment='center',\n",
    "                verticalalignment='center',\n",
    "                fontsize=18, fontweight='bold',\n",
    "                fontfamily='serif',\n",
    "                color=\"#000000\")\n",
    "    sns.histplot(data=df,x=col, kde=True, ax=axes[i, 1], color='blue',bins=22,edgecolor='white')\n",
    "    axes[i,1].set_ylabel('Tần suất')\n",
    "    axes[i,1].set_xlabel(label[i])\n",
    "\n",
    "plt.tight_layout()\n",
    "plt.show()"
   ]
  },
  {
   "cell_type": "markdown",
   "id": "cae0f456-67c3-4dd0-8f45-910d62c9a0c6",
   "metadata": {},
   "source": [
    "#### Nhận xét"
   ]
  },
  {
   "cell_type": "markdown",
   "id": "4f40534a-171a-42db-a64f-c58448110deb",
   "metadata": {},
   "source": [
    "- Đối với biểu đồ phân bố dữ liệu của thuộc tính **Diện tích**:\n",
    "    - Diện tích rơi vào khoảng từ 10 đến 50m2, với đỉnh phân phối khoảng 30m2, cho thấy đây là mức diện tích phổ biến của nhà trọ cho thuê trong tập dữ liệu.\n",
    "    - Phần đuôi từ mức diện tích 50m2 trở đi kéo dài cho thấy tồn tại các giá trị ngoại lai. Điều này thể hiện sự mất cân đối của biểu đồ.\n",
    "- Đối với biểu đồ phân bố dữ liệu của thuộc tính **Mức giá**:\n",
    "    - Mức giá rơi vào khoảng 3 đến 7 triệu đồng, với đỉnh phân phối khoảng 5 triệu đồng, cho thấy đây là giá tiền phổ biến của nhà trọ cho thuê trong tập dữ liệu.\n",
    "    - Phần đuôi từ mức 10 triệu đồng trở đi kéo dài cho thấy tồn tại các giá trị ngoại lại. Điều này thể hiện sự mất cân đối của biểu đồ.\n",
    "\n",
    "Nhìn chung cả hai biểu đồ đều cho thấy tồn tại các giá trị ngoại lai, để phục vụ cho việc áp dụng mô hình học máy để dự đoán thì các dữ liệu này nên cần được xử lý."
   ]
  },
  {
   "cell_type": "markdown",
   "id": "7f0a3af4-e9de-4486-b0e6-396d63be112f",
   "metadata": {},
   "source": [
    "## 5.3 Phân bố của các giá trị phân loại <a id=\"category\"></a>\n",
    "###### [(Về trang đầu)](#content)"
   ]
  },
  {
   "cell_type": "code",
   "execution_count": 47,
   "id": "789ae4a1-8253-4f3b-b8c3-41fed2ce3731",
   "metadata": {},
   "outputs": [
    {
     "data": {
      "image/png": "[encoded data removed]",
      "text/plain": [
       "<Figure size 1500x1200 with 4 Axes>"
      ]
     },
     "metadata": {},
     "output_type": "display_data"
    }
   ],
   "source": [
    "#'Địa chỉ','Nội thất','Ngày đăng tin'\n",
    "cate_cols = ['Nội thất','Ngày đăng tin']\n",
    "tmp_df = df.copy()\n",
    "tmp_df['Ngày đăng tin'] = tmp_df['Ngày đăng tin'].str[:7]\n",
    "\n",
    "address = pd.read_csv(\"./Data/address.txt\", encoding='utf-8-sig', sep=':', names=['name', 'id'])\n",
    "mapping = address.set_index('id')['name'].to_dict()\n",
    "\n",
    "tmp_df['Địa chỉ'] = tmp_df['Địa chỉ'].map(mapping)\n",
    "\n",
    "label = [['Không', 'Cơ bản', 'Đầy đủ','Cao cấp'],\n",
    "         ['Tháng 9','Tháng 10','Tháng 11','Tháng 12']]\n",
    "\n",
    "fig, axes = plt.subplots(2, 2, figsize=(15, 12))\n",
    "\n",
    "axes[0, 0].tick_params(left=False, bottom=False)\n",
    "axes[0, 0].set_xticklabels([])\n",
    "axes[0, 0].set_yticklabels([])\n",
    "axes[0, 0].text(0.5, 0.5,\n",
    "            f'Phân bố dữ liệu của \\ncác giá trị phân loại\\n _________________',\n",
    "            horizontalalignment='center',\n",
    "            verticalalignment='center',\n",
    "            fontsize=18, fontweight='bold',\n",
    "            fontfamily='serif',\n",
    "            color=\"#000000\")\n",
    "\n",
    "count = tmp_df['Địa chỉ'].value_counts().sort_values(ascending=False)\n",
    "sns.barplot(x=count.index, y=count.values,ax=axes[0,1], color='salmon')\n",
    "axes[0, 1].set_ylabel('Tần xuất')\n",
    "axes[0, 1].set_xlabel('Địa chỉ')\n",
    "axes[0, 1].set_xticks(range(len(count.index)))\n",
    "axes[0, 1].set_xticklabels(count.index, rotation=90)\n",
    "\n",
    "\n",
    "for i, col in enumerate(cate_cols):\n",
    "    r = (i + 2) // 2\n",
    "    c = (i + 2) % 2\n",
    "    \n",
    "    count = tmp_df[col].value_counts().sort_index()\n",
    "    sns.barplot(x=count.index, y=count.values,ax=axes[r,c], color='salmon')\n",
    "    axes[r,c].set_ylabel('Tần xuất')\n",
    "    axes[r, c].set_xlabel(col)\n",
    "    axes[r, c].set_xticks(range(len(count.index)))\n",
    "    axes[r, c].set_xticklabels(label[i], rotation=90)\n",
    "\n",
    "plt.tight_layout()\n",
    "plt.show()"
   ]
  },
  {
   "cell_type": "markdown",
   "id": "068662f3-ae91-46e7-989b-9297c4058641",
   "metadata": {},
   "source": [
    "#### Nhận xét"
   ]
  },
  {
   "cell_type": "markdown",
   "id": "efbdac80-6b67-4c9a-891f-6add51a337cc",
   "metadata": {},
   "source": [
    "- Đối với phân bố dữ liệu của thuộc tính **Địa chỉ**:\n",
    "    - Các địa chỉ Bình Thạnh, Tân Bình, Quận 2 có số lượng phòng trọ nhiều nhất với tần xuất lớn hơn 400 và đặc biệt Bình Thạnh xấp xỉ gần 700 có thể là do đặc điểm kinh tế - xã hội hoặc nhu cầu thuê trọ cao tại đây.\n",
    "    - Ngược lại, một số địa chỉ như Hóc Môn và Nhà Bè có số lượng rất thấp, cho thấy sự chênh lệch đáng kể về mức độ cung cấp nhà cho thuê.\n",
    "- Đối với phân bố dữ liệu của thuộc tính **Nội thất**:\n",
    "    - Tần xuất của nội Đầy đủ chiếm cao nhất và có phần áp đảo với trên 2500, cho thấy xu hướng trang bị nội thất đầy đủ ở các phòng trọ cho thuê là nhiều nhất trong tập dữ liệu.\n",
    "    - Tần xuất của nội thất Không và Cơ bản chiểm lần lượt là 1000 và 500.\n",
    "    - Thấp nhất là tần xuất của nội thất Cao cấp cho thấy các chủ trọ thường không quá tập trung vào việc trang bị nội thất cao cấp cho các phòng trọ.\n",
    "- Đối với phân bố dữ liệu của thuộc tính **Ngày đăng tin**:\n",
    "    - Tháng 10 là tháng được đăng tin tìm kiếm phòng trọ nhiều nhất trong tập dữ liệu này với tần xuất trên 2000, cao hơn rất nhiều so với các tháng còn lại.\n",
    "    - Tháng 9 và tháng 12 là tháng có tần xuất đăng tin ít nhất khi đạt tần xuất khoảng 500 và dưới 500."
   ]
  },
  {
   "cell_type": "code",
   "execution_count": null,
   "id": "0f72b425-3f0f-4adf-aee4-afb264f425fc",
   "metadata": {},
   "outputs": [],
   "source": []
  }
 ],
 "metadata": {
  "kernelspec": {
   "display_name": "Python 3 (ipykernel)",
   "language": "python",
   "name": "python3"
  },
  "language_info": {
   "codemirror_mode": {
    "name": "ipython",
    "version": 3
   },
   "file_extension": ".py",
   "mimetype": "text/x-python",
   "name": "python",
   "nbconvert_exporter": "python",
   "pygments_lexer": "ipython3",
   "version": "3.12.4"
  }
 },
 "nbformat": 4,
 "nbformat_minor": 5
}
